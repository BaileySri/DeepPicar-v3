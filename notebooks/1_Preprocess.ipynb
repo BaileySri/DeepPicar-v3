{
  "nbformat": 4,
  "nbformat_minor": 0,
  "metadata": {
    "colab": {
      "name": "1_Preprocess.ipynb",
      "provenance": [],
      "collapsed_sections": [],
      "toc_visible": true
    },
    "kernelspec": {
      "name": "python3",
      "display_name": "Python 3"
    }
  },
  "cells": [
    {
      "cell_type": "markdown",
      "metadata": {
        "id": "I9z1tMqcStgz"
      },
      "source": [
        "# Import the required libraries"
      ]
    },
    {
      "cell_type": "code",
      "metadata": {
        "id": "vDaIEYeWSTwW"
      },
      "source": [
        "try:\r\n",
        "  # %tensorflow_version only exists in Colab.\r\n",
        "  %tensorflow_version 2.x\r\n",
        "except Exception:\r\n",
        "  pass"
      ],
      "execution_count": 1,
      "outputs": []
    },
    {
      "cell_type": "code",
      "metadata": {
        "id": "-CZHI0L8tawO"
      },
      "source": [
        "from cv2 import cv2\r\n",
        "from tqdm import tqdm\r\n",
        "from glob import glob\r\n",
        "import zipfile\r\n",
        "import os\r\n",
        "import time\r\n",
        "import pandas as pd\r\n",
        "from keras.preprocessing import image"
      ],
      "execution_count": 2,
      "outputs": []
    },
    {
      "cell_type": "markdown",
      "metadata": {
        "id": "lfrII6WA1iTv"
      },
      "source": [
        "# Download dataset to google colab instance"
      ]
    },
    {
      "cell_type": "code",
      "metadata": {
        "colab": {
          "base_uri": "https://localhost:8080/"
        },
        "id": "WNPaIp6MBkHX",
        "outputId": "b9fd5ab1-f64f-4fec-eb05-93baba6170dc"
      },
      "source": [
        "!wget --no-check-certificate --no-clobber https://raw.githubusercontent.com/Karenw1004/Deeppicar-v3/main/Dataset.zip"
      ],
      "execution_count": 3,
      "outputs": [
        {
          "output_type": "stream",
          "text": [
            "--2021-02-12 17:29:57--  https://raw.githubusercontent.com/Karenw1004/Deeppicar-v3/main/Dataset.zip\n",
            "Resolving raw.githubusercontent.com (raw.githubusercontent.com)... 185.199.108.133, 185.199.109.133, 185.199.110.133, ...\n",
            "Connecting to raw.githubusercontent.com (raw.githubusercontent.com)|185.199.108.133|:443... connected.\n",
            "HTTP request sent, awaiting response... 200 OK\n",
            "Length: 69313921 (66M) [application/zip]\n",
            "Saving to: ‘Dataset.zip’\n",
            "\n",
            "Dataset.zip         100%[===================>]  66.10M   114MB/s    in 0.6s    \n",
            "\n",
            "2021-02-12 17:29:59 (114 MB/s) - ‘Dataset.zip’ saved [69313921/69313921]\n",
            "\n"
          ],
          "name": "stdout"
        }
      ]
    },
    {
      "cell_type": "code",
      "metadata": {
        "colab": {
          "base_uri": "https://localhost:8080/"
        },
        "id": "JoQmhj6v1o7F",
        "outputId": "b714206f-a0e0-45bb-cf74-c304b6094b07"
      },
      "source": [
        "list_zip = glob(\"./*.zip\")\r\n",
        "print(list_zip)\r\n",
        "local_zip_file_path = list_zip[0]\r\n",
        "print(local_zip_file_path)\r\n",
        "\r\n",
        "zip_ref = zipfile.ZipFile(local_zip_file_path)\r\n",
        "data_dir = local_zip_file_path.replace(\".zip\",\"\")\r\n",
        "print(data_dir)\r\n",
        "zip_ref.extractall(data_dir)\r\n",
        "print(\"The Dataset folder has been added to the colab instance\")"
      ],
      "execution_count": 4,
      "outputs": [
        {
          "output_type": "stream",
          "text": [
            "['./Dataset.zip']\n",
            "./Dataset.zip\n",
            "./Dataset\n",
            "The Dataset folder has been added to the colab instance\n"
          ],
          "name": "stdout"
        }
      ]
    },
    {
      "cell_type": "markdown",
      "metadata": {
        "id": "gLj-6Xu5SPiV"
      },
      "source": [
        "# Preprocess dataset video to frames"
      ]
    },
    {
      "cell_type": "code",
      "metadata": {
        "id": "R6099b-2SMbH"
      },
      "source": [
        "# Config\r\n",
        "NFRAMES = 1000\r\n",
        "\r\n",
        "img_height = 66\r\n",
        "img_width =  200\r\n",
        "img_channels = 3\r\n",
        "input_shape = [ img_height, img_width, img_channels]"
      ],
      "execution_count": 5,
      "outputs": []
    },
    {
      "cell_type": "code",
      "metadata": {
        "id": "FK7RascqFuX2"
      },
      "source": [
        "!mkdir $data_dir/train_images"
      ],
      "execution_count": 6,
      "outputs": []
    },
    {
      "cell_type": "code",
      "metadata": {
        "colab": {
          "base_uri": "https://localhost:8080/"
        },
        "id": "fgmpYbhtQ3Jm",
        "outputId": "5211272f-7def-410e-8037-e6149f08c2f5"
      },
      "source": [
        "vid_ext = \".avi\"\r\n",
        "all_video_files = glob(f\"{data_dir}/*{vid_ext}\")\r\n",
        "\r\n",
        "for path in tqdm(all_video_files):\r\n",
        "  \r\n",
        "  # Open the video file\r\n",
        "  assert os.path.isfile(path)\r\n",
        "  cap = cv2.VideoCapture(path)\r\n",
        "\r\n",
        "  curFrame = 0\r\n",
        "  vid_name = path.split(\"/\")[-1]\r\n",
        "  vid_name = vid_name.split(\".\")[0]\r\n",
        "\r\n",
        "  while (cap.isOpened()):\r\n",
        "    if curFrame < NFRAMES:\r\n",
        "      cam_start = time.time()\r\n",
        "      ret, img = cap.read()\r\n",
        "\r\n",
        "      if cv2.waitKey(1) & 0xFF == ord('q'):\r\n",
        "        break\r\n",
        "\r\n",
        "      curFrame += 1\r\n",
        "      filename = f\"train_images/{vid_name}_frame_{curFrame}.jpg\" \r\n",
        "      frame = img\r\n",
        "      cv2.imwrite(f\"{data_dir}/{filename}\", frame)\r\n",
        "\r\n",
        "    else:\r\n",
        "      break\r\n",
        "\r\n",
        "cap.release()\r\n",
        "cv2.destroyAllWindows()"
      ],
      "execution_count": 7,
      "outputs": [
        {
          "output_type": "stream",
          "text": [
            "100%|██████████| 11/11 [00:24<00:00,  2.18s/it]\n"
          ],
          "name": "stderr"
        }
      ]
    },
    {
      "cell_type": "markdown",
      "metadata": {
        "id": "RU-frrZpTw94"
      },
      "source": [
        "<font color='blue'>NOTE</font><br/>\r\n",
        "You can click on the files on the left.<br/>\r\n",
        "> Files -> Dataset -> train_images\r\n",
        "<br/>\r\n",
        "\r\n",
        "It will have the 11000 frames images where each video produce 1000 frames images (not yet preprocess)\r\n"
      ]
    },
    {
      "cell_type": "markdown",
      "metadata": {
        "id": "V4vRayw-bQdm"
      },
      "source": [
        "# Load Data\r\n"
      ]
    },
    {
      "cell_type": "markdown",
      "metadata": {
        "id": "JKBQiMkDVwEP"
      },
      "source": [
        "## Load the csv files "
      ]
    },
    {
      "cell_type": "code",
      "metadata": {
        "id": "sNBa3JZXb7F0",
        "colab": {
          "base_uri": "https://localhost:8080/"
        },
        "outputId": "2edb369a-7ba4-418d-ba46-ee968095b10d"
      },
      "source": [
        "all_csv_files = glob(\"./Dataset/*.csv\")\r\n",
        "df_dict = {}\r\n",
        "print(all_csv_files)\r\n",
        "for filepath in all_csv_files:\r\n",
        "  df = pd.read_csv(filepath, index_col=None,header=0)\r\n",
        "  filename = filepath.split(\"/\")[-1]\r\n",
        "  out_number = filename.split(\"-\")[-1]\r\n",
        "  out_number = int(out_number.split(\".\")[0])\r\n",
        "  df_dict[out_number] = df"
      ],
      "execution_count": 8,
      "outputs": [
        {
          "output_type": "stream",
          "text": [
            "['./Dataset/out-key-2.csv', './Dataset/out-key-0.csv', './Dataset/out-key-9.csv', './Dataset/out-key-4.csv', './Dataset/out-key-1.csv', './Dataset/out-key-5.csv', './Dataset/out-key-6.csv', './Dataset/out-key-3.csv', './Dataset/out-key-8.csv', './Dataset/out-key-10.csv', './Dataset/out-key-7.csv']\n"
          ],
          "name": "stdout"
        }
      ]
    },
    {
      "cell_type": "code",
      "metadata": {
        "id": "DsemHXicAaGH",
        "colab": {
          "base_uri": "https://localhost:8080/"
        },
        "outputId": "7e38456f-9d86-491b-d196-21705a2c15a4"
      },
      "source": [
        "df_dict.keys()"
      ],
      "execution_count": 9,
      "outputs": [
        {
          "output_type": "execute_result",
          "data": {
            "text/plain": [
              "dict_keys([2, 0, 9, 4, 1, 5, 6, 3, 8, 10, 7])"
            ]
          },
          "metadata": {
            "tags": []
          },
          "execution_count": 9
        }
      ]
    },
    {
      "cell_type": "markdown",
      "metadata": {
        "id": "c1KgY530T0qe"
      },
      "source": [
        "Looks great! We have all the 11 csv files !"
      ]
    },
    {
      "cell_type": "markdown",
      "metadata": {
        "id": "vOrWBQlD53MO"
      },
      "source": [
        "### Let's check out the csv data "
      ]
    },
    {
      "cell_type": "code",
      "metadata": {
        "id": "6iKlfDSh0oFr",
        "colab": {
          "base_uri": "https://localhost:8080/"
        },
        "outputId": "5e4c6bba-b6ea-4a02-d3d1-e7f5eb12400d"
      },
      "source": [
        "df = df_dict[0]\r\n",
        "df.info()"
      ],
      "execution_count": 10,
      "outputs": [
        {
          "output_type": "stream",
          "text": [
            "<class 'pandas.core.frame.DataFrame'>\n",
            "RangeIndex: 1000 entries, 0 to 999\n",
            "Data columns (total 3 columns):\n",
            " #   Column    Non-Null Count  Dtype  \n",
            "---  ------    --------------  -----  \n",
            " 0   ts_micro  1000 non-null   int64  \n",
            " 1   frame     1000 non-null   int64  \n",
            " 2   wheel     1000 non-null   float64\n",
            "dtypes: float64(1), int64(2)\n",
            "memory usage: 23.6 KB\n"
          ],
          "name": "stdout"
        }
      ]
    },
    {
      "cell_type": "markdown",
      "metadata": {
        "id": "aRn9CNjfT-JB"
      },
      "source": [
        "**Very clean** data with no nulls value and no missing value"
      ]
    },
    {
      "cell_type": "code",
      "metadata": {
        "id": "NJBKfZsVsiqc",
        "colab": {
          "base_uri": "https://localhost:8080/"
        },
        "outputId": "b1037ec6-376e-4abf-e77d-1daab6dd80a5"
      },
      "source": [
        "df.wheel.unique()"
      ],
      "execution_count": 11,
      "outputs": [
        {
          "output_type": "execute_result",
          "data": {
            "text/plain": [
              "array([ 0.        ,  0.52359878, -0.52359878])"
            ]
          },
          "metadata": {
            "tags": []
          },
          "execution_count": 11
        }
      ]
    },
    {
      "cell_type": "markdown",
      "metadata": {
        "id": "Irz156vIdFtN"
      },
      "source": [
        "\r\n",
        "| Column | Explanation |\r\n",
        "| --- | --- |\r\n",
        "| ts_micro | TODO: EXPLAIN THIS |\r\n",
        "| frame | the current frame number  |\r\n",
        "| wheel | **- 0.52359878 rad == 30 degrees** representing turning **right**|\r\n",
        "|| **0 rad == 0 degrees** representing **center** |\r\n",
        "|| **-0.52359878 rad == -30 degrees** reprsent turning **left**  |\r\n"
      ]
    },
    {
      "cell_type": "markdown",
      "metadata": {
        "id": "vq8O2rZZi_fD"
      },
      "source": [
        "# Preprocess the frames images"
      ]
    },
    {
      "cell_type": "code",
      "metadata": {
        "id": "8aGb75EbSOyP"
      },
      "source": [
        "def preprocess(img):\r\n",
        "  assert img_channels == 3 # for now we expect a color image\r\n",
        "  img = cv2.resize(img, (img_width, img_height))\r\n",
        "  img = img / 255.\r\n",
        "  return img"
      ],
      "execution_count": 12,
      "outputs": []
    },
    {
      "cell_type": "code",
      "metadata": {
        "id": "UkmdGIALmfdh",
        "colab": {
          "base_uri": "https://localhost:8080/"
        },
        "outputId": "45c67a73-5d25-4a77-994a-2d4e359372de"
      },
      "source": [
        "images = glob(f\"{data_dir}/train_images/*.jpg\")\r\n",
        "train_image_path = []\r\n",
        "train_image = []\r\n",
        "train_wheel_val = []\r\n",
        "\r\n",
        "for i in tqdm(range(len(images))):\r\n",
        "\r\n",
        "  image_path = images[i]\r\n",
        "  train_image_path.append(image_path)\r\n",
        "\r\n",
        "  img = image.load_img(image_path)\r\n",
        "  img = image.img_to_array(img)\r\n",
        "  img = preprocess(img)\r\n",
        "  train_image.append(img)\r\n",
        "\r\n",
        "  out_number = images[i].split(\"-\")[-1]\r\n",
        "  out_number = int(out_number.split(\"_\")[0])\r\n",
        "  df = df_dict[out_number]\r\n",
        "\r\n",
        "  frame_number = images[i].split(\"_\")[-1]\r\n",
        "  frame_number = int(frame_number.split(\".\")[0])\r\n",
        "  df_row = df[ df['frame'] == frame_number ]\r\n",
        "  data = df_row['wheel']\r\n",
        "  train_wheel_val.append(float(data))\r\n"
      ],
      "execution_count": 13,
      "outputs": [
        {
          "output_type": "stream",
          "text": [
            "100%|██████████| 11000/11000 [00:38<00:00, 285.86it/s]\n"
          ],
          "name": "stderr"
        }
      ]
    },
    {
      "cell_type": "code",
      "metadata": {
        "id": "J-vkFOqw2Qxa",
        "colab": {
          "base_uri": "https://localhost:8080/",
          "height": 204
        },
        "outputId": "a34088b3-cf04-4dbd-c6bd-6b6f98801795"
      },
      "source": [
        "train_df = pd.DataFrame()\r\n",
        "train_df['image_path'] = train_image_path\r\n",
        "train_df['wheel'] = train_wheel_val\r\n",
        "train_df['image'] = train_image\r\n",
        "train_df.head()"
      ],
      "execution_count": 14,
      "outputs": [
        {
          "output_type": "execute_result",
          "data": {
            "text/html": [
              "<div>\n",
              "<style scoped>\n",
              "    .dataframe tbody tr th:only-of-type {\n",
              "        vertical-align: middle;\n",
              "    }\n",
              "\n",
              "    .dataframe tbody tr th {\n",
              "        vertical-align: top;\n",
              "    }\n",
              "\n",
              "    .dataframe thead th {\n",
              "        text-align: right;\n",
              "    }\n",
              "</style>\n",
              "<table border=\"1\" class=\"dataframe\">\n",
              "  <thead>\n",
              "    <tr style=\"text-align: right;\">\n",
              "      <th></th>\n",
              "      <th>image_path</th>\n",
              "      <th>wheel</th>\n",
              "      <th>image</th>\n",
              "    </tr>\n",
              "  </thead>\n",
              "  <tbody>\n",
              "    <tr>\n",
              "      <th>0</th>\n",
              "      <td>./Dataset/train_images/out-video-9_frame_463.jpg</td>\n",
              "      <td>0.523599</td>\n",
              "      <td>[[[0.08078431, 0.057254903, 0.0], [0.0873975, ...</td>\n",
              "    </tr>\n",
              "    <tr>\n",
              "      <th>1</th>\n",
              "      <td>./Dataset/train_images/out-video-1_frame_646.jpg</td>\n",
              "      <td>0.523599</td>\n",
              "      <td>[[[0.328467, 0.25748664, 0.030481283], [0.3776...</td>\n",
              "    </tr>\n",
              "    <tr>\n",
              "      <th>2</th>\n",
              "      <td>./Dataset/train_images/out-video-5_frame_434.jpg</td>\n",
              "      <td>0.523599</td>\n",
              "      <td>[[[0.22509804, 0.13490197, 0.0097860955], [0.2...</td>\n",
              "    </tr>\n",
              "    <tr>\n",
              "      <th>3</th>\n",
              "      <td>./Dataset/train_images/out-video-10_frame_32.jpg</td>\n",
              "      <td>0.000000</td>\n",
              "      <td>[[[0.57012475, 0.6054189, 0.585811], [0.559037...</td>\n",
              "    </tr>\n",
              "    <tr>\n",
              "      <th>4</th>\n",
              "      <td>./Dataset/train_images/out-video-1_frame_202.jpg</td>\n",
              "      <td>0.000000</td>\n",
              "      <td>[[[0.5686275, 0.5921569, 0.58431375], [0.56862...</td>\n",
              "    </tr>\n",
              "  </tbody>\n",
              "</table>\n",
              "</div>"
            ],
            "text/plain": [
              "                                         image_path  ...                                              image\n",
              "0  ./Dataset/train_images/out-video-9_frame_463.jpg  ...  [[[0.08078431, 0.057254903, 0.0], [0.0873975, ...\n",
              "1  ./Dataset/train_images/out-video-1_frame_646.jpg  ...  [[[0.328467, 0.25748664, 0.030481283], [0.3776...\n",
              "2  ./Dataset/train_images/out-video-5_frame_434.jpg  ...  [[[0.22509804, 0.13490197, 0.0097860955], [0.2...\n",
              "3  ./Dataset/train_images/out-video-10_frame_32.jpg  ...  [[[0.57012475, 0.6054189, 0.585811], [0.559037...\n",
              "4  ./Dataset/train_images/out-video-1_frame_202.jpg  ...  [[[0.5686275, 0.5921569, 0.58431375], [0.56862...\n",
              "\n",
              "[5 rows x 3 columns]"
            ]
          },
          "metadata": {
            "tags": []
          },
          "execution_count": 14
        }
      ]
    },
    {
      "cell_type": "markdown",
      "metadata": {
        "id": "wPR8AG3bCyov"
      },
      "source": [
        "`**Save preprocessed data can be ignored and load preprocess can be ignored if you copy the REST of the cells at the Training.ipynb**`"
      ]
    },
    {
      "cell_type": "markdown",
      "metadata": {
        "id": "Pf1hMHVzjtYB"
      },
      "source": [
        "# Save preprocessed data\r\n",
        "## Save the image col (np.array) to npy and the image_path and wheel col to csv"
      ]
    },
    {
      "cell_type": "code",
      "metadata": {
        "id": "UQUnQQs0ju-7"
      },
      "source": [
        "import numpy as np\r\n",
        "np.save(\"preprocess_image\", train_df[\"image\"])"
      ],
      "execution_count": 15,
      "outputs": []
    },
    {
      "cell_type": "markdown",
      "metadata": {
        "id": "bfITUUIYTjCM"
      },
      "source": [
        "preprocess_image.npy will be saved at a google drive link because github maximum file size is 100MB."
      ]
    },
    {
      "cell_type": "code",
      "metadata": {
        "id": "jZZ45mjK3d7N"
      },
      "source": [
        "train_df[[\"image_path\",\"wheel\"]].to_csv('preprocess_path.csv', header=True, index=False)"
      ],
      "execution_count": 16,
      "outputs": []
    },
    {
      "cell_type": "markdown",
      "metadata": {
        "id": "hIh3HpOaFG6h"
      },
      "source": [
        "<font color='blue'>NOTE</font><br/>\r\n",
        "The reason why we **DO NOT** do ```train_df.to_pickle``` \r\n",
        "is because we will get this error below: <br/>\r\n",
        "> ValueError: malformed node or string:array([[<br/>\r\n",
        "  [4.2959005e-02, 5.5971481e-02, 14438502e-02],<br/>\r\n",
        "  [4.2959005e-02, 5.5971481e-02, 1.4438502e-02],<br/>\r\n",
        "  [4.2959005e-02, 5.5971481e-02, 1.4438502e-02],<br/>\r\n",
        "  ...,<br/>\r\n",
        "  [5.3012478e-01, 5.9928697e-01, 5.7575756e-01],<br/>\r\n",
        "because to_pickle save the image np.array to object <br/>\r\n",
        "\r\n",
        "Same reason with ```train_df.to_csv``` because we will not want to save it as a object (string)  with missing commas and \\n. The table below shows what happens when you save it in to_csv.<br/>\r\n",
        "\r\n"
      ]
    },
    {
      "cell_type": "markdown",
      "metadata": {
        "id": "XG3FydLaFPU8"
      },
      "source": [
        "\r\n",
        "|Index| Image|\r\n",
        "| --- | --- |\r\n",
        "|0 |      [[[4.2959005e-02 5.5971481e-02 1.4438502e-02]\\... |\r\n",
        "|1 |       [[[0.447451   0.47098035 0.46313724]\\n  [0.425...|\r\n",
        "|2 |       [[[0.48516932 0.4930125  0.47340462]\\n  [0.479...|"
      ]
    }
  ]
}