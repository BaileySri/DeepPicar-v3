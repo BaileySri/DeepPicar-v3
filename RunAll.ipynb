{
 "cells": [
  {
   "cell_type": "code",
   "execution_count": 8,
   "metadata": {},
   "outputs": [],
   "source": [
    "import tensorflow as tf\n",
    "import cv2\n",
    "import numpy as np\n",
    "import matplotlib.pyplot as plt\n",
    "from tqdm import tqdm\n",
    "from pandas import read_csv\n",
    "from sklearn.model_selection import train_test_split\n",
    "import math\n"
   ]
  },
  {
   "cell_type": "code",
   "execution_count": 9,
   "metadata": {},
   "outputs": [],
   "source": [
    "model_name = \"model_large\"\n",
    "img_width = 200\n",
    "img_height = 66\n",
    "img_channels = 3\n",
    "model_file = \"models/{}-{}x{}x{}\".format(model_name[6:], img_width, img_height, img_channels)\n"
   ]
  },
  {
   "cell_type": "code",
   "execution_count": 10,
   "metadata": {},
   "outputs": [
    {
     "name": "stdout",
     "output_type": "stream",
     "text": [
      "not in colab\n"
     ]
    }
   ],
   "source": [
    "import requests \n",
    "import os\n",
    "import zipfile\n",
    "\n",
    "dataset_dir = \"dataset\"\n",
    "dataset_zipfile = 'Dataset.zip'\n",
    "RPI_IP=None # '10.104.124.194'  # replace this with the IP address of your raspberry pi \n",
    "RunningInCOLAB = 'google.colab' in str(get_ipython())\n",
    "force_unzip = False\n",
    "\n",
    "if RunningInCOLAB: \n",
    "    print(\"in colab\")\n",
    "    from google.colab import files\n",
    "    uploaded = files.upload()\n",
    "    for fn in uploaded.keys():\n",
    "        print('User uploaded file \"{name}\" with length {length} bytes'.format(\n",
    "            name=fn, length=len(uploaded[fn])))\n",
    "else:\n",
    "    print (\"not in colab\")\n",
    "    if RPI_IP is not None:\n",
    "        URL=\"http://\"+RPI_IP+\":8000/\"+dataset_zipfile\n",
    "        filename=URL.split('/')[-1]\n",
    "        r = requests.get(URL)\n",
    "        open(filename, 'wb').write(r.content)\n",
    "\n",
    "if not os.path.isfile(dataset_zipfile):\n",
    "    default_dataset_URL = \"https://raw.githubusercontent.com/Karenw1004/Deeppicar-v3/main/Dataset.zip\"\n",
    "    print (\"No existing dataset. download from \", default_dataset_URL)\n",
    "    !wget --no-check-certificate --no-clobber {default_dataset_URL}\n",
    "\n",
    "if not os.path.isdir(dataset_dir) or force_unzip==True:\n",
    "    print ('unzip %s into %s folder' % (dataset_zipfile, dataset_dir))\n",
    "    zip_ref = zipfile.ZipFile(dataset_zipfile)\n",
    "    zip_ref.extractall(dataset_dir)"
   ]
  },
  {
   "cell_type": "code",
   "execution_count": 11,
   "metadata": {},
   "outputs": [],
   "source": [
    "from keras import layers\n",
    "\n",
    "model = tf.keras.Sequential()\n",
    "model.add(layers.Conv2D(24, (5,5), strides=(2,2), activation='relu', input_shape=(img_height,img_width,img_channels)))\n",
    "model.add(layers.Conv2D(36, (5,5), strides=(2,2), activation='relu'))\n",
    "model.add(layers.Conv2D(48, (5,5), strides=(2,2), activation='relu'))\n",
    "model.add(layers.Conv2D(64, (3,3), activation='relu'))\n",
    "model.add(layers.Conv2D(64, (3,3), activation='relu'))\n",
    "model.add(layers.Flatten())\n",
    "model.add(layers.Dense(100, activation='relu'))\n",
    "model.add(layers.Dense(50, activation='relu'))\n",
    "model.add(layers.Dense(10, activation='relu'))\n",
    "model.add(layers.Dense(1))"
   ]
  },
  {
   "cell_type": "code",
   "execution_count": 14,
   "metadata": {},
   "outputs": [
    {
     "name": "stdout",
     "output_type": "stream",
     "text": [
      "dataset\\out-video-0.avi dataset\\out-key-0.csv\n",
      "dataset\\out-video-1.avi dataset\\out-key-1.csv\n",
      "dataset\\out-video-2.avi dataset\\out-key-2.csv\n",
      "dataset\\out-video-3.avi dataset\\out-key-3.csv\n",
      "dataset\\out-video-4.avi dataset\\out-key-4.csv\n",
      "dataset\\out-video-5.avi dataset\\out-key-5.csv\n",
      "dataset\\out-video-6.avi dataset\\out-key-6.csv\n",
      "dataset\\out-video-7.avi dataset\\out-key-7.csv\n",
      "dataset\\out-video-9.avi dataset\\out-key-9.csv\n",
      "Loaded 9000 smaples\n"
     ]
    }
   ],
   "source": [
    "# Train/test data lists\n",
    "imgs = []\n",
    "vals = []\n",
    "\n",
    "import glob\n",
    "for vid_file_path in glob.iglob(f'{dataset_dir}/*.avi'):\n",
    "    csv_file_path = vid_file_path.replace('video', 'key').replace('avi', 'csv')\n",
    "    print(vid_file_path, csv_file_path)\n",
    "\n",
    "    vid = cv2.VideoCapture(vid_file_path)\n",
    "    ret,img = vid.read()\n",
    "    while(ret):\n",
    "        # Convert to grayscale and readd channel dimension\n",
    "        if img_channels == 1:\n",
    "            img = cv2.cvtColor(img, cv2.COLOR_BGR2GRAY)\n",
    "            img = cv2.resize(img, (img_width, img_height))\n",
    "            img = np.reshape(img, (img_height, img_width, img_channels))\n",
    "        # For RGB, just need to resize image\n",
    "        else:\n",
    "            img = cv2.resize(img, (img_width, img_height))\n",
    "        img = img / 255.\n",
    "        imgs.append(img)\n",
    "        ret,img = vid.read()\n",
    "    df = read_csv(csv_file_path)\n",
    "    temp = np.asarray(df[\"wheel\"].values)\n",
    "    vals.extend(temp)\n",
    "    # print(len(imgs), len(vals))    \n",
    "\n",
    "# Convert lists to numpy arrays and ensure they are of equal length    \n",
    "imgs = np.asarray(imgs)  # input images\n",
    "vals = np.asarray(vals)  # steering angles\n",
    "assert len(imgs) == len(vals)\n",
    "print(\"Loaded {} smaples\".format(len(imgs)))"
   ]
  },
  {
   "cell_type": "code",
   "execution_count": 15,
   "metadata": {},
   "outputs": [
    {
     "name": "stdout",
     "output_type": "stream",
     "text": [
      "Train/Test\n"
     ]
    }
   ],
   "source": [
    "# Split the dataset for train and test \n",
    "print(\"Train/Test\")\n",
    "x_train, x_test, y_train, y_test = train_test_split(imgs, vals, test_size=0.25)"
   ]
  },
  {
   "cell_type": "code",
   "execution_count": 16,
   "metadata": {},
   "outputs": [
    {
     "name": "stdout",
     "output_type": "stream",
     "text": [
      "Model compile\n"
     ]
    }
   ],
   "source": [
    "#print(x_train[0])\n",
    "print (\"Model compile\")\n",
    "model.compile(optimizer=tf.keras.optimizers.Adam(1e-4),\n",
    "                loss='mse', metrics=['mae'])"
   ]
  },
  {
   "cell_type": "code",
   "execution_count": 17,
   "metadata": {},
   "outputs": [
    {
     "name": "stdout",
     "output_type": "stream",
     "text": [
      "Model fit\n",
      "Epoch 1/10\n",
      "68/68 [==============================] - 40s 547ms/step - loss: 0.1235 - mae: 0.3017 - val_loss: 0.0956 - val_mae: 0.2574\n",
      "Epoch 2/10\n",
      "68/68 [==============================] - 35s 510ms/step - loss: 0.0851 - mae: 0.2287 - val_loss: 0.0840 - val_mae: 0.2312\n",
      "Epoch 3/10\n",
      "68/68 [==============================] - 33s 479ms/step - loss: 0.0770 - mae: 0.2130 - val_loss: 0.0748 - val_mae: 0.2149\n",
      "Epoch 4/10\n",
      "68/68 [==============================] - 31s 459ms/step - loss: 0.0683 - mae: 0.2087 - val_loss: 0.0672 - val_mae: 0.2088\n",
      "Epoch 5/10\n",
      "68/68 [==============================] - 31s 457ms/step - loss: 0.0630 - mae: 0.1994 - val_loss: 0.0651 - val_mae: 0.2062\n",
      "Epoch 6/10\n",
      "68/68 [==============================] - 31s 459ms/step - loss: 0.0600 - mae: 0.1938 - val_loss: 0.0622 - val_mae: 0.1971\n",
      "Epoch 7/10\n",
      "68/68 [==============================] - 32s 467ms/step - loss: 0.0569 - mae: 0.1872 - val_loss: 0.0594 - val_mae: 0.1894\n",
      "Epoch 8/10\n",
      "68/68 [==============================] - 30s 446ms/step - loss: 0.0550 - mae: 0.1830 - val_loss: 0.0628 - val_mae: 0.1966\n",
      "Epoch 9/10\n",
      "68/68 [==============================] - 31s 458ms/step - loss: 0.0528 - mae: 0.1780 - val_loss: 0.0571 - val_mae: 0.1837\n",
      "Epoch 10/10\n",
      "68/68 [==============================] - 31s 452ms/step - loss: 0.0504 - mae: 0.1731 - val_loss: 0.0615 - val_mae: 0.1974\n",
      "dict_keys(['loss', 'mae', 'val_loss', 'val_mae'])\n"
     ]
    },
    {
     "data": {
      "image/png": "[encoded data removed]",
      "text/plain": [
       "<Figure size 432x288 with 1 Axes>"
      ]
     },
     "metadata": {
      "needs_background": "light"
     },
     "output_type": "display_data"
    }
   ],
   "source": [
    "print (\"Model fit\")\n",
    "history = model.fit(x_train, y_train, batch_size=100,\n",
    "                    epochs=10, validation_data=(x_test, y_test))\n",
    "\n",
    "# Plot training and validation losses \n",
    "print(history.history.keys())\n",
    "plt.plot(history.history['loss'])\n",
    "plt.plot(history.history['val_loss'])\n",
    "plt.title('model loss')\n",
    "plt.ylabel('loss')\n",
    "plt.xlabel('epoch')\n",
    "plt.legend(['train', 'test'], loc='upper left')\n",
    "plt.show()"
   ]
  },
  {
   "cell_type": "code",
   "execution_count": 18,
   "metadata": {},
   "outputs": [],
   "source": [
    "# Helper functions for evaluating model accuracy\n",
    "def rad2deg(rad):\n",
    "  return 180.0 * rad / math.pi\n",
    "def get_action(angle_rad):\n",
    "  degree = rad2deg(angle_rad)\n",
    "  if degree < 15 and degree > -15:\n",
    "    return \"center\"\n",
    "  elif degree >= 15:\n",
    "    return \"right\" \n",
    "  elif degree <-15:\n",
    "    return \"left\""
   ]
  },
  {
   "cell_type": "code",
   "execution_count": 19,
   "metadata": {},
   "outputs": [
    {
     "name": "stdout",
     "output_type": "stream",
     "text": [
      "Accuracy is 0.713\n"
     ]
    }
   ],
   "source": [
    "pred = model.predict(x_test)\n",
    "pred = np.array(list(map(get_action, pred)))\n",
    "ground = np.array(list(map(get_action, y_test)))\n",
    "print('Accuracy is %.3f' % np.mean(pred == ground))"
   ]
  },
  {
   "cell_type": "code",
   "execution_count": 20,
   "metadata": {},
   "outputs": [
    {
     "name": "stdout",
     "output_type": "stream",
     "text": [
      "Model Save\n",
      "TFLite Model\n",
      "INFO:tensorflow:Assets written to: C:\\Users\\heechul\\AppData\\Local\\Temp\\tmpovscr0_y\\assets\n"
     ]
    },
    {
     "name": "stderr",
     "output_type": "stream",
     "text": [
      "WARNING:absl:Buffer deduplication procedure will be skipped when flatbuffer library is not properly loaded\n"
     ]
    }
   ],
   "source": [
    "# Save both the Keras and TFLite models      \n",
    "print(\"Model Save\")                  \n",
    "model.save(model_file+\".h5\")\n",
    "\n",
    "print(\"TFLite Model\")\n",
    "converter = tf.lite.TFLiteConverter.from_keras_model(model)\n",
    "converter.optimizations = [tf.lite.Optimize.DEFAULT]\n",
    "# converter.target_spec.supported_types = [tf.float16]\n",
    "\n",
    "quantized_tflite_model = converter.convert()\n",
    "\n",
    "with open(model_file+\".tflite\", 'wb') as f:\n",
    "    f.write(quantized_tflite_model)\n",
    "\n",
    "print (model_file+\".tflite is saved. copy this file to the robot\")"
   ]
  }
 ],
 "metadata": {
  "interpreter": {
   "hash": "b0fa6594d8f4cbf19f97940f81e996739fb7646882a419484c72d19e05852a7e"
  },
  "kernelspec": {
   "display_name": "Python 3.9.12 64-bit",
   "language": "python",
   "name": "python3"
  },
  "language_info": {
   "codemirror_mode": {
    "name": "ipython",
    "version": 3
   },
   "file_extension": ".py",
   "mimetype": "text/x-python",
   "name": "python",
   "nbconvert_exporter": "python",
   "pygments_lexer": "ipython3",
   "version": "3.9.2"
  },
  "orig_nbformat": 4
 },
 "nbformat": 4,
 "nbformat_minor": 2
}
