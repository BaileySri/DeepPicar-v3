{
 "cells": [
  {
   "cell_type": "code",
   "execution_count": 10,
   "metadata": {},
   "outputs": [],
   "source": [
    "import tensorflow as tf\n",
    "import cv2\n",
    "import numpy as np\n",
    "import matplotlib.pyplot as plt\n",
    "from tqdm import tqdm\n",
    "from pandas import read_csv\n",
    "from sklearn.model_selection import train_test_split\n",
    "import math\n"
   ]
  },
  {
   "cell_type": "code",
   "execution_count": 11,
   "metadata": {},
   "outputs": [],
   "source": [
    "model_name = \"model_large-d1-DWConv\"\n",
    "img_width = 200\n",
    "img_height = 66\n",
    "img_channels = 3\n",
    "model_file = \"models/{}-{}x{}x{}\".format(model_name[6:], img_width, img_height, img_channels)"
   ]
  },
  {
   "cell_type": "code",
   "execution_count": 12,
   "metadata": {},
   "outputs": [
    {
     "name": "stdout",
     "output_type": "stream",
     "text": [
      "File ‘Dataset.zip’ already there; not retrieving.\n",
      "\n"
     ]
    }
   ],
   "source": [
    "import zipfile\n",
    "!wget --no-check-certificate --no-clobber https://raw.githubusercontent.com/Karenw1004/Deeppicar-v3/main/Dataset.zip\n",
    "zip_ref = zipfile.ZipFile('Dataset.zip')\n",
    "zip_ref.extractall('Dataset')"
   ]
  },
  {
   "cell_type": "code",
   "execution_count": 13,
   "metadata": {},
   "outputs": [],
   "source": [
    "from keras import layers\n",
    "\n",
    "model = tf.keras.Sequential()\n",
    "model.add(layers.Conv2D(24, (5,5), strides=(2,2), activation='relu', input_shape=(img_height,img_width,img_channels)))\n",
    "model.add(layers.Conv2D(36, (5,5), strides=(2,2), activation='relu'))\n",
    "model.add(layers.Conv2D(48, (5,5), strides=(2,2), activation='relu'))\n",
    "model.add(layers.Conv2D(64, (3,3), activation='relu'))\n",
    "model.add(layers.Conv2D(64, (3,3), activation='relu'))\n",
    "model.add(layers.Flatten())\n",
    "model.add(layers.Dense(100, activation='relu'))\n",
    "model.add(layers.Dense(50, activation='relu'))\n",
    "model.add(layers.Dense(10, activation='relu'))\n",
    "model.add(layers.Dense(1))"
   ]
  },
  {
   "cell_type": "code",
   "execution_count": 14,
   "metadata": {},
   "outputs": [
    {
     "name": "stdout",
     "output_type": "stream",
     "text": [
      "Loaded 11000 smaples\n"
     ]
    }
   ],
   "source": [
    "# Train/test data lists\n",
    "imgs = []\n",
    "vals = []\n",
    "\n",
    "# Load all train/test data into their respective lists\n",
    "for i in range(11):\n",
    "    vid_file_path = \"Dataset/out-video-{}.avi\".format(i)\n",
    "    csv_file_path = \"Dataset/out-key-{}.csv\".format(i)\n",
    "    vid = cv2.VideoCapture(vid_file_path)\n",
    "    ret,img = vid.read()\n",
    "    while(ret):\n",
    "        # Convert to grayscale and readd channel dimension\n",
    "        if img_channels == 1:\n",
    "            img = cv2.cvtColor(img, cv2.COLOR_BGR2GRAY)\n",
    "            img = cv2.resize(img, (img_width, img_height))\n",
    "            img = np.reshape(img, (img_height, img_width, img_channels))\n",
    "        # For RGB, just need to resize image\n",
    "        else:\n",
    "            img = cv2.resize(img, (img_width, img_height))\n",
    "        img = img / 255.\n",
    "        imgs.append(img)\n",
    "        ret,img = vid.read()\n",
    "    df = read_csv(csv_file_path)\n",
    "    temp = np.asarray(df[\"wheel\"].values)\n",
    "    vals.extend(temp)\n",
    "    # print(len(imgs), len(vals))    \n",
    "\n",
    "# Convert lists to numpy arrays and ensure they are of equal length    \n",
    "imgs = np.asarray(imgs)  # input images\n",
    "vals = np.asarray(vals)  # steering angles\n",
    "assert len(imgs) == len(vals)\n",
    "print(\"Loaded {} smaples\".format(len(imgs)))\n"
   ]
  },
  {
   "cell_type": "code",
   "execution_count": 15,
   "metadata": {},
   "outputs": [
    {
     "name": "stdout",
     "output_type": "stream",
     "text": [
      "Train/Test\n"
     ]
    }
   ],
   "source": [
    "# Split the dataset for train and test \n",
    "print(\"Train/Test\")\n",
    "x_train, x_test, y_train, y_test = train_test_split(imgs, vals, test_size=0.25)"
   ]
  },
  {
   "cell_type": "code",
   "execution_count": 16,
   "metadata": {},
   "outputs": [
    {
     "name": "stdout",
     "output_type": "stream",
     "text": [
      "Model compile\n"
     ]
    }
   ],
   "source": [
    "#print(x_train[0])\n",
    "print (\"Model compile\")\n",
    "model.compile(optimizer=tf.keras.optimizers.Adam(1e-4),\n",
    "                loss='mse', metrics=['mae'])"
   ]
  },
  {
   "cell_type": "code",
   "execution_count": 17,
   "metadata": {},
   "outputs": [
    {
     "name": "stdout",
     "output_type": "stream",
     "text": [
      "Model fit\n",
      "Epoch 1/10\n",
      "83/83 [==============================] - 17s 194ms/step - loss: 0.1030 - mae: 0.2702 - val_loss: 0.0777 - val_mae: 0.2364\n",
      "Epoch 2/10\n",
      "83/83 [==============================] - 12s 148ms/step - loss: 0.0730 - mae: 0.2179 - val_loss: 0.0678 - val_mae: 0.2065\n",
      "Epoch 3/10\n",
      "83/83 [==============================] - 12s 144ms/step - loss: 0.0664 - mae: 0.2042 - val_loss: 0.0625 - val_mae: 0.2005\n",
      "Epoch 4/10\n",
      "83/83 [==============================] - 13s 152ms/step - loss: 0.0625 - mae: 0.1962 - val_loss: 0.0603 - val_mae: 0.1997\n",
      "Epoch 5/10\n",
      "83/83 [==============================] - 13s 155ms/step - loss: 0.0597 - mae: 0.1911 - val_loss: 0.0586 - val_mae: 0.1897\n",
      "Epoch 6/10\n",
      "83/83 [==============================] - 12s 150ms/step - loss: 0.0566 - mae: 0.1850 - val_loss: 0.0624 - val_mae: 0.1908\n",
      "Epoch 7/10\n",
      "83/83 [==============================] - 12s 150ms/step - loss: 0.0555 - mae: 0.1844 - val_loss: 0.0588 - val_mae: 0.1943\n",
      "Epoch 8/10\n",
      "83/83 [==============================] - 12s 150ms/step - loss: 0.0533 - mae: 0.1779 - val_loss: 0.0545 - val_mae: 0.1831\n",
      "Epoch 9/10\n",
      "83/83 [==============================] - 12s 150ms/step - loss: 0.0511 - mae: 0.1751 - val_loss: 0.0530 - val_mae: 0.1828\n",
      "Epoch 10/10\n",
      "83/83 [==============================] - 12s 149ms/step - loss: 0.0493 - mae: 0.1710 - val_loss: 0.0537 - val_mae: 0.1767\n",
      "dict_keys(['loss', 'mae', 'val_loss', 'val_mae'])\n"
     ]
    },
    {
     "data": {
      "image/png": "[encoded data removed]",
      "text/plain": [
       "<Figure size 432x288 with 1 Axes>"
      ]
     },
     "metadata": {
      "needs_background": "light"
     },
     "output_type": "display_data"
    }
   ],
   "source": [
    "print (\"Model fit\")\n",
    "history = model.fit(x_train, y_train, batch_size=100,\n",
    "                    epochs=10, validation_data=(x_test, y_test))\n",
    "\n",
    "# Plot training and validation losses \n",
    "print(history.history.keys())\n",
    "plt.plot(history.history['loss'])\n",
    "plt.plot(history.history['val_loss'])\n",
    "plt.title('model loss')\n",
    "plt.ylabel('loss')\n",
    "plt.xlabel('epoch')\n",
    "plt.legend(['train', 'test'], loc='upper left')\n",
    "plt.show()"
   ]
  },
  {
   "cell_type": "code",
   "execution_count": 18,
   "metadata": {},
   "outputs": [],
   "source": [
    "# Helper functions for evaluating model accuracy\n",
    "def rad2deg(rad):\n",
    "  return 180.0 * rad / math.pi\n",
    "def get_action(angle_rad):\n",
    "  degree = rad2deg(angle_rad)\n",
    "  if degree < 15 and degree > -15:\n",
    "    return \"center\"\n",
    "  elif degree >= 15:\n",
    "    return \"right\" \n",
    "  elif degree <-15:\n",
    "    return \"left\""
   ]
  },
  {
   "cell_type": "code",
   "execution_count": 19,
   "metadata": {},
   "outputs": [
    {
     "name": "stdout",
     "output_type": "stream",
     "text": [
      "Accuracy is 0.740\n"
     ]
    }
   ],
   "source": [
    "pred = model.predict(x_test)\n",
    "pred = np.array(list(map(get_action, pred)))\n",
    "ground = np.array(list(map(get_action, y_test)))\n",
    "print('Accuracy is %.3f' % np.mean(pred == ground))"
   ]
  },
  {
   "cell_type": "code",
   "execution_count": 20,
   "metadata": {},
   "outputs": [
    {
     "name": "stdout",
     "output_type": "stream",
     "text": [
      "Model Save\n",
      "TFLite Model\n"
     ]
    },
    {
     "name": "stderr",
     "output_type": "stream",
     "text": [
      "2022-04-13 16:02:48.379191: W tensorflow/python/util/util.cc:368] Sets are not currently considered sequences, but this may change in the future, so consider avoiding using them.\n"
     ]
    },
    {
     "name": "stdout",
     "output_type": "stream",
     "text": [
      "INFO:tensorflow:Assets written to: /var/folders/2_/kskwshj16hqb0586p6cydg4h0000gq/T/tmpu40v7cmk/assets\n"
     ]
    },
    {
     "name": "stderr",
     "output_type": "stream",
     "text": [
      "2022-04-13 16:02:55.000251: W tensorflow/compiler/mlir/lite/python/tf_tfl_flatbuffer_helpers.cc:357] Ignored output_format.\n",
      "WARNING:absl:Buffer deduplication procedure will be skipped when flatbuffer library is not properly loaded\n",
      "2022-04-13 16:02:55.000281: W tensorflow/compiler/mlir/lite/python/tf_tfl_flatbuffer_helpers.cc:360] Ignored drop_control_dependency.\n",
      "2022-04-13 16:02:55.012508: I tensorflow/cc/saved_model/reader.cc:43] Reading SavedModel from: /var/folders/2_/kskwshj16hqb0586p6cydg4h0000gq/T/tmpu40v7cmk\n",
      "2022-04-13 16:02:55.014824: I tensorflow/cc/saved_model/reader.cc:78] Reading meta graph with tags { serve }\n",
      "2022-04-13 16:02:55.014829: I tensorflow/cc/saved_model/reader.cc:119] Reading SavedModel debug info (if present) from: /var/folders/2_/kskwshj16hqb0586p6cydg4h0000gq/T/tmpu40v7cmk\n",
      "2022-04-13 16:02:55.022293: I tensorflow/cc/saved_model/loader.cc:228] Restoring SavedModel bundle.\n",
      "2022-04-13 16:02:55.082351: I tensorflow/cc/saved_model/loader.cc:212] Running initialization op on SavedModel bundle at path: /var/folders/2_/kskwshj16hqb0586p6cydg4h0000gq/T/tmpu40v7cmk\n",
      "2022-04-13 16:02:55.096578: I tensorflow/cc/saved_model/loader.cc:301] SavedModel load for tags { serve }; Status: success: OK. Took 84090 microseconds.\n",
      "2022-04-13 16:02:55.140011: I tensorflow/compiler/mlir/tensorflow/utils/dump_mlir_util.cc:237] disabling MLIR crash reproducer, set env var `MLIR_CRASH_REPRODUCER_DIRECTORY` to enable.\n",
      "2022-04-13 16:02:55.231768: I tensorflow/lite/tools/optimize/quantize_weights.cc:225] Skipping quantization of tensor sequential_1/dense_6/MatMul because it has fewer than 1024 elements (500).\n",
      "2022-04-13 16:02:55.231801: I tensorflow/lite/tools/optimize/quantize_weights.cc:225] Skipping quantization of tensor sequential_1/dense_7/MatMul because it has fewer than 1024 elements (10).\n"
     ]
    }
   ],
   "source": [
    "# Save both the Keras and TFLite models      \n",
    "print(\"Model Save\")                  \n",
    "model.save(model_file+\".h5\")\n",
    "\n",
    "print(\"TFLite Model\")\n",
    "converter = tf.lite.TFLiteConverter.from_keras_model(model)\n",
    "converter.optimizations = [tf.lite.Optimize.DEFAULT]\n",
    "# converter.target_spec.supported_types = [tf.float16]\n",
    "\n",
    "quantized_tflite_model = converter.convert()\n",
    "\n",
    "with open(model_file+\".tflite\", 'wb') as f:\n",
    "    f.write(quantized_tflite_model)"
   ]
  }
 ],
 "metadata": {
  "interpreter": {
   "hash": "b0fa6594d8f4cbf19f97940f81e996739fb7646882a419484c72d19e05852a7e"
  },
  "kernelspec": {
   "display_name": "Python 3.9.12 64-bit",
   "language": "python",
   "name": "python3"
  },
  "language_info": {
   "codemirror_mode": {
    "name": "ipython",
    "version": 3
   },
   "file_extension": ".py",
   "mimetype": "text/x-python",
   "name": "python",
   "nbconvert_exporter": "python",
   "pygments_lexer": "ipython3",
   "version": "3.9.12"
  },
  "orig_nbformat": 4
 },
 "nbformat": 4,
 "nbformat_minor": 2
}
