{
  "nbformat": 4,
  "nbformat_minor": 0,
  "metadata": {
    "colab": {
      "name": "Research.ipynb",
      "provenance": [],
      "collapsed_sections": []
    },
    "kernelspec": {
      "display_name": "Python 3",
      "name": "python3"
    }
  },
  "cells": [
    {
      "cell_type": "code",
      "metadata": {
        "id": "ioLbtB3uGKPX"
      },
      "source": [
        "try:\n",
        "  # %tensorflow_version only exists in Colab.\n",
        "  %tensorflow_version 2.x\n",
        "except Exception:\n",
        "  pass"
      ],
      "execution_count": 1,
      "outputs": []
    },
    {
      "cell_type": "code",
      "metadata": {
        "id": "-CZHI0L8tawO"
      },
      "source": [
        "import tensorflow as tf\r\n",
        "from cv2 import cv2\r\n",
        "import sys\r\n",
        "import os\r\n",
        "import time\r\n",
        "import math\r\n",
        "import numpy as np\r\n",
        "from tqdm import tqdm\r\n",
        "from glob import glob"
      ],
      "execution_count": 2,
      "outputs": []
    },
    {
      "cell_type": "markdown",
      "metadata": {
        "id": "lfrII6WA1iTv"
      },
      "source": [
        "# Download dataset to google colab instance"
      ]
    },
    {
      "cell_type": "code",
      "metadata": {
        "colab": {
          "base_uri": "https://localhost:8080/"
        },
        "id": "WNPaIp6MBkHX",
        "outputId": "8da4acf3-7a46-4171-910e-1c59cab6f66c"
      },
      "source": [
        "!wget --no-check-certificate --no-clobber https://raw.githubusercontent.com/Karenw1004/Deeppicar-v3/main/Dataset.zip"
      ],
      "execution_count": 3,
      "outputs": [
        {
          "output_type": "stream",
          "text": [
            "--2021-01-28 12:13:59--  https://raw.githubusercontent.com/Karenw1004/Deeppicar-v3/main/Dataset.zip\n",
            "Resolving raw.githubusercontent.com (raw.githubusercontent.com)... 151.101.0.133, 151.101.64.133, 151.101.128.133, ...\n",
            "Connecting to raw.githubusercontent.com (raw.githubusercontent.com)|151.101.0.133|:443... connected.\n",
            "HTTP request sent, awaiting response... 200 OK\n",
            "Length: 69313921 (66M) [application/zip]\n",
            "Saving to: ‘Dataset.zip’\n",
            "\n",
            "Dataset.zip         100%[===================>]  66.10M   163MB/s    in 0.4s    \n",
            "\n",
            "2021-01-28 12:14:00 (163 MB/s) - ‘Dataset.zip’ saved [69313921/69313921]\n",
            "\n"
          ],
          "name": "stdout"
        }
      ]
    },
    {
      "cell_type": "code",
      "metadata": {
        "colab": {
          "base_uri": "https://localhost:8080/"
        },
        "id": "JoQmhj6v1o7F",
        "outputId": "e8d140dd-f0e8-41f3-d7af-a85723a3bfba"
      },
      "source": [
        "import zipfile\r\n",
        "\r\n",
        "list_zip = glob(\"./*.zip\")\r\n",
        "print(list_zip)\r\n",
        "local_zip_file_path = list_zip[0]\r\n",
        "print(local_zip_file_path)\r\n",
        "\r\n",
        "zip_ref = zipfile.ZipFile(local_zip_file_path)\r\n",
        "data_dir = local_zip_file_path.replace(\".zip\",\"\")\r\n",
        "print(data_dir)\r\n",
        "zip_ref.extractall(data_dir)\r\n",
        "print(\"The Dataset folder has been added to the colab instance\")"
      ],
      "execution_count": 4,
      "outputs": [
        {
          "output_type": "stream",
          "text": [
            "['./Dataset.zip']\n",
            "./Dataset.zip\n",
            "./Dataset\n",
            "The Dataset folder has been added to the colab instance\n"
          ],
          "name": "stdout"
        }
      ]
    },
    {
      "cell_type": "code",
      "metadata": {
        "colab": {
          "base_uri": "https://localhost:8080/"
        },
        "id": "JGBqhuTZMZ0B",
        "outputId": "fc9829a6-3152-4351-c29e-184325762cfb"
      },
      "source": [
        "!git update-index --assume-unchanged ./Dataset/"
      ],
      "execution_count": 5,
      "outputs": [
        {
          "output_type": "stream",
          "text": [
            "fatal: not a git repository (or any of the parent directories): .git\n"
          ],
          "name": "stdout"
        }
      ]
    },
    {
      "cell_type": "markdown",
      "metadata": {
        "id": "gLj-6Xu5SPiV"
      },
      "source": [
        "# Preprocess dataset video to frames"
      ]
    },
    {
      "cell_type": "code",
      "metadata": {
        "id": "R6099b-2SMbH"
      },
      "source": [
        "# Config\r\n",
        "NFRAMES = 1000\r\n",
        "\r\n",
        "img_height = 66\r\n",
        "img_width =  200\r\n",
        "img_channels = 3\r\n",
        "input_shape = [ img_height, img_width, img_channels]"
      ],
      "execution_count": 6,
      "outputs": []
    },
    {
      "cell_type": "code",
      "metadata": {
        "id": "FK7RascqFuX2"
      },
      "source": [
        "!mkdir $data_dir/train_images"
      ],
      "execution_count": 7,
      "outputs": []
    },
    {
      "cell_type": "code",
      "metadata": {
        "colab": {
          "base_uri": "https://localhost:8080/"
        },
        "id": "fgmpYbhtQ3Jm",
        "outputId": "98db5521-d9d3-4083-941d-5e39970167c4"
      },
      "source": [
        "for i in tqdm(range(11)):\r\n",
        "  \r\n",
        "  # Open the video file\r\n",
        "  vid_path = f\"out-video-{i}\"\r\n",
        "  vid_ext = \".avi\"\r\n",
        "  path = data_dir + \"/\" + vid_path + vid_ext\r\n",
        "  assert os.path.isfile(path)\r\n",
        "  cap = cv2.VideoCapture(path)\r\n",
        "\r\n",
        "  curFrame = 0\r\n",
        "\r\n",
        "  while (cap.isOpened()):\r\n",
        "    if curFrame < NFRAMES:\r\n",
        "      cam_start = time.time()\r\n",
        "      ret, img = cap.read()\r\n",
        "\r\n",
        "      if cv2.waitKey(1) & 0xFF == ord('q'):\r\n",
        "        break\r\n",
        "\r\n",
        "      curFrame += 1\r\n",
        "      filename = f\"train_images/{vid_path}_frame_{curFrame}.jpg\" \r\n",
        "      frame = img\r\n",
        "      cv2.imwrite(f\"{data_dir}/{filename}\", frame)\r\n",
        "\r\n",
        "    else:\r\n",
        "      break\r\n",
        "\r\n",
        "cap.release()\r\n",
        "cv2.destroyAllWindows()"
      ],
      "execution_count": 8,
      "outputs": [
        {
          "output_type": "stream",
          "text": [
            "100%|██████████| 11/11 [00:22<00:00,  2.06s/it]\n"
          ],
          "name": "stderr"
        }
      ]
    },
    {
      "cell_type": "markdown",
      "metadata": {
        "id": "V4vRayw-bQdm"
      },
      "source": [
        "# Load the images and categorize image"
      ]
    },
    {
      "cell_type": "code",
      "metadata": {
        "colab": {
          "base_uri": "https://localhost:8080/"
        },
        "id": "sNBa3JZXb7F0",
        "outputId": "5bfaefd1-cd6b-4fb3-abfc-8950419054c7"
      },
      "source": [
        "from glob import glob\r\n",
        "import pandas as pd\r\n",
        "\r\n",
        "all_csv_files = glob(\"./Dataset/*.csv\")\r\n",
        "df_dict = {}\r\n",
        "print(all_csv_files)\r\n",
        "for filepath in all_csv_files:\r\n",
        "  df = pd.read_csv(filepath, index_col=None,header=0)\r\n",
        "  filename = filepath.split(\"/\")[-1]\r\n",
        "  out_number = filename.split(\"-\")[-1]\r\n",
        "  out_number = int(out_number.split(\".\")[0])\r\n",
        "  df_dict[out_number] = df"
      ],
      "execution_count": 9,
      "outputs": [
        {
          "output_type": "stream",
          "text": [
            "['./Dataset/out-key-2.csv', './Dataset/out-key-9.csv', './Dataset/out-key-0.csv', './Dataset/out-key-1.csv', './Dataset/out-key-10.csv', './Dataset/out-key-7.csv', './Dataset/out-key-8.csv', './Dataset/out-key-5.csv', './Dataset/out-key-3.csv', './Dataset/out-key-4.csv', './Dataset/out-key-6.csv']\n"
          ],
          "name": "stdout"
        }
      ]
    },
    {
      "cell_type": "code",
      "metadata": {
        "colab": {
          "base_uri": "https://localhost:8080/"
        },
        "id": "DsemHXicAaGH",
        "outputId": "4baaf7aa-e67d-4b49-e4a6-bd8c6633f3bd"
      },
      "source": [
        "df_dict.keys()"
      ],
      "execution_count": 10,
      "outputs": [
        {
          "output_type": "execute_result",
          "data": {
            "text/plain": [
              "dict_keys([2, 9, 0, 1, 10, 7, 8, 5, 3, 4, 6])"
            ]
          },
          "metadata": {
            "tags": []
          },
          "execution_count": 10
        }
      ]
    },
    {
      "cell_type": "markdown",
      "metadata": {
        "id": "vOrWBQlD53MO"
      },
      "source": [
        "Let's check out the dataset "
      ]
    },
    {
      "cell_type": "code",
      "metadata": {
        "colab": {
          "base_uri": "https://localhost:8080/"
        },
        "id": "6iKlfDSh0oFr",
        "outputId": "1df081e8-aa5c-417d-d698-a5282d7c8153"
      },
      "source": [
        "df = df_dict[0]\r\n",
        "df.info()"
      ],
      "execution_count": 11,
      "outputs": [
        {
          "output_type": "stream",
          "text": [
            "<class 'pandas.core.frame.DataFrame'>\n",
            "RangeIndex: 1000 entries, 0 to 999\n",
            "Data columns (total 3 columns):\n",
            " #   Column    Non-Null Count  Dtype  \n",
            "---  ------    --------------  -----  \n",
            " 0   ts_micro  1000 non-null   int64  \n",
            " 1   frame     1000 non-null   int64  \n",
            " 2   wheel     1000 non-null   float64\n",
            "dtypes: float64(1), int64(2)\n",
            "memory usage: 23.6 KB\n"
          ],
          "name": "stdout"
        }
      ]
    },
    {
      "cell_type": "code",
      "metadata": {
        "colab": {
          "base_uri": "https://localhost:8080/"
        },
        "id": "NJBKfZsVsiqc",
        "outputId": "b7bc0d89-08dd-4f80-94a2-9f4618952ef9"
      },
      "source": [
        "df.wheel.unique()"
      ],
      "execution_count": 12,
      "outputs": [
        {
          "output_type": "execute_result",
          "data": {
            "text/plain": [
              "array([ 0.        ,  0.52359878, -0.52359878])"
            ]
          },
          "metadata": {
            "tags": []
          },
          "execution_count": 12
        }
      ]
    },
    {
      "cell_type": "code",
      "metadata": {
        "id": "8aGb75EbSOyP"
      },
      "source": [
        "def preprocess(img):\r\n",
        "  assert img_channels == 3 # for now we expect a color image\r\n",
        "  img = cv2.resize(img, (img_width, img_height))\r\n",
        "  img = img / 255.\r\n",
        "  return img"
      ],
      "execution_count": 13,
      "outputs": []
    },
    {
      "cell_type": "code",
      "metadata": {
        "colab": {
          "base_uri": "https://localhost:8080/"
        },
        "id": "UkmdGIALmfdh",
        "outputId": "f4654628-7635-4ae8-93bc-79ab82641817"
      },
      "source": [
        "from google.colab.patches import cv2_imshow\r\n",
        "from keras.preprocessing import image\r\n",
        "images = glob(f\"{data_dir}/train_images/*.jpg\")\r\n",
        "train_image_path = []\r\n",
        "train_image = []\r\n",
        "train_wheel_val = []\r\n",
        "\r\n",
        "from PIL import Image \r\n",
        "for i in tqdm(range(len(images))):\r\n",
        "\r\n",
        "  image_path = images[i]\r\n",
        "  train_image_path.append(image_path)\r\n",
        "\r\n",
        "  img = image.load_img(image_path)\r\n",
        "  # display(img)\r\n",
        "  img = image.img_to_array(img)\r\n",
        "  img = preprocess(img)\r\n",
        "\r\n",
        "  train_image.append(img)\r\n",
        "\r\n",
        "  out_number = images[i].split(\"-\")[-1]\r\n",
        "  out_number = int(out_number.split(\"_\")[0])\r\n",
        "  df = df_dict[out_number]\r\n",
        "\r\n",
        "  frame_number = images[i].split(\"_\")[-1]\r\n",
        "  frame_number = int(frame_number.split(\".\")[0])\r\n",
        "  df_row = df[ df['frame'] == frame_number ]\r\n",
        "  data = df_row['wheel']\r\n",
        "  train_wheel_val.append(float(data))\r\n"
      ],
      "execution_count": 14,
      "outputs": [
        {
          "output_type": "stream",
          "text": [
            "100%|██████████| 11000/11000 [00:35<00:00, 310.79it/s]\n"
          ],
          "name": "stderr"
        }
      ]
    },
    {
      "cell_type": "code",
      "metadata": {
        "colab": {
          "base_uri": "https://localhost:8080/",
          "height": 204
        },
        "id": "J-vkFOqw2Qxa",
        "outputId": "ffa0a4cf-634b-4755-d7a8-019f14096498"
      },
      "source": [
        "train_df = pd.DataFrame()\r\n",
        "train_df['image_path'] = train_image_path\r\n",
        "train_df['wheel'] = train_wheel_val\r\n",
        "train_df['image'] = train_image\r\n",
        "train_df.head()"
      ],
      "execution_count": 15,
      "outputs": [
        {
          "output_type": "execute_result",
          "data": {
            "text/html": [
              "<div>\n",
              "<style scoped>\n",
              "    .dataframe tbody tr th:only-of-type {\n",
              "        vertical-align: middle;\n",
              "    }\n",
              "\n",
              "    .dataframe tbody tr th {\n",
              "        vertical-align: top;\n",
              "    }\n",
              "\n",
              "    .dataframe thead th {\n",
              "        text-align: right;\n",
              "    }\n",
              "</style>\n",
              "<table border=\"1\" class=\"dataframe\">\n",
              "  <thead>\n",
              "    <tr style=\"text-align: right;\">\n",
              "      <th></th>\n",
              "      <th>image_path</th>\n",
              "      <th>wheel</th>\n",
              "      <th>image</th>\n",
              "    </tr>\n",
              "  </thead>\n",
              "  <tbody>\n",
              "    <tr>\n",
              "      <th>0</th>\n",
              "      <td>./Dataset/train_images/out-video-8_frame_55.jpg</td>\n",
              "      <td>-0.523599</td>\n",
              "      <td>[[[0.09374331, 0.10158646, 0.081978604], [0.12...</td>\n",
              "    </tr>\n",
              "    <tr>\n",
              "      <th>1</th>\n",
              "      <td>./Dataset/train_images/out-video-1_frame_694.jpg</td>\n",
              "      <td>0.000000</td>\n",
              "      <td>[[[0.20994651, 0.22171123, 0.1142959], [0.1115...</td>\n",
              "    </tr>\n",
              "    <tr>\n",
              "      <th>2</th>\n",
              "      <td>./Dataset/train_images/out-video-0_frame_415.jpg</td>\n",
              "      <td>0.000000</td>\n",
              "      <td>[[[0.47058824, 0.49411765, 0.4862745], [0.4705...</td>\n",
              "    </tr>\n",
              "    <tr>\n",
              "      <th>3</th>\n",
              "      <td>./Dataset/train_images/out-video-4_frame_370.jpg</td>\n",
              "      <td>0.000000</td>\n",
              "      <td>[[[0.19308378, 0.20921569, 0.22458112], [0.208...</td>\n",
              "    </tr>\n",
              "    <tr>\n",
              "      <th>4</th>\n",
              "      <td>./Dataset/train_images/out-video-0_frame_842.jpg</td>\n",
              "      <td>0.523599</td>\n",
              "      <td>[[[0.21176471, 0.23921569, 0.2627451], [0.2117...</td>\n",
              "    </tr>\n",
              "  </tbody>\n",
              "</table>\n",
              "</div>"
            ],
            "text/plain": [
              "                                         image_path  ...                                              image\n",
              "0   ./Dataset/train_images/out-video-8_frame_55.jpg  ...  [[[0.09374331, 0.10158646, 0.081978604], [0.12...\n",
              "1  ./Dataset/train_images/out-video-1_frame_694.jpg  ...  [[[0.20994651, 0.22171123, 0.1142959], [0.1115...\n",
              "2  ./Dataset/train_images/out-video-0_frame_415.jpg  ...  [[[0.47058824, 0.49411765, 0.4862745], [0.4705...\n",
              "3  ./Dataset/train_images/out-video-4_frame_370.jpg  ...  [[[0.19308378, 0.20921569, 0.22458112], [0.208...\n",
              "4  ./Dataset/train_images/out-video-0_frame_842.jpg  ...  [[[0.21176471, 0.23921569, 0.2627451], [0.2117...\n",
              "\n",
              "[5 rows x 3 columns]"
            ]
          },
          "metadata": {
            "tags": []
          },
          "execution_count": 15
        }
      ]
    },
    {
      "cell_type": "code",
      "metadata": {
        "colab": {
          "base_uri": "https://localhost:8080/"
        },
        "id": "OooN2i4D8xEz",
        "outputId": "92d75ffb-ae7e-4c51-9df4-ce802ccad8ce"
      },
      "source": [
        "X = np.array(train_image)\r\n",
        "X.shape"
      ],
      "execution_count": 16,
      "outputs": [
        {
          "output_type": "execute_result",
          "data": {
            "text/plain": [
              "(11000, 66, 200, 3)"
            ]
          },
          "metadata": {
            "tags": []
          },
          "execution_count": 16
        }
      ]
    },
    {
      "cell_type": "markdown",
      "metadata": {
        "id": "68qMdJHSAun6"
      },
      "source": [
        "Currently there is 11000 images with size of (66,200,3)<br>\r\n",
        "- img_height = 66\r\n",
        "- img_width =  200\r\n",
        "- img_channels = 3  (RGB color)"
      ]
    },
    {
      "cell_type": "code",
      "metadata": {
        "id": "cAiOSMtPBZ6a"
      },
      "source": [
        "from sklearn.model_selection import train_test_split\r\n",
        "y = train_df['wheel'] \r\n",
        "\r\n",
        "X_train, X_test, y_train, y_test = train_test_split(X,y, \r\n",
        "                                                    test_size=0.7, \r\n",
        "                                                    random_state=7,\r\n",
        "                                                    stratify=y)"
      ],
      "execution_count": 17,
      "outputs": []
    },
    {
      "cell_type": "code",
      "metadata": {
        "colab": {
          "base_uri": "https://localhost:8080/"
        },
        "id": "c_BgaES52MVy",
        "outputId": "ca21c444-45de-420c-d09a-d93ed4c9276c"
      },
      "source": [
        "train_df['wheel'].unique()"
      ],
      "execution_count": 18,
      "outputs": [
        {
          "output_type": "execute_result",
          "data": {
            "text/plain": [
              "array([-0.52359878,  0.        ,  0.52359878])"
            ]
          },
          "metadata": {
            "tags": []
          },
          "execution_count": 18
        }
      ]
    },
    {
      "cell_type": "markdown",
      "metadata": {
        "id": "inOpSdIY6AVZ"
      },
      "source": [
        "# Define model \r\n",
        "\r\n",
        "The overall model look like this<br>\r\n",
        "<img src='https://drive.google.com/uc?export=view&id=1ly2QuhyzF_DFADSfMPplvPk8u0ZuIm1c'\r\n",
        "width='300px' height='300x'> <br>\r\n",
        "And from tensorflow-v1:<br>\r\n",
        "<img src='https://drive.google.com/uc?export=view&id=1fq4k7SnE-O1o3gppNjw8SumixwnpHZ_0' >\r\n",
        "\r\n",
        "\r\n",
        "\r\n"
      ]
    },
    {
      "cell_type": "markdown",
      "metadata": {
        "id": "ZIFd4r8kFQCi"
      },
      "source": [
        "## Layers"
      ]
    },
    {
      "cell_type": "code",
      "metadata": {
        "id": "M4DEgFIRt02b"
      },
      "source": [
        "# To make sure there is no inqeuivalent output from tf.nn.conv2d and keras.layers.Conv2D\r\n",
        "# ref:https://stackoverflow.com/questions/61087933/inequivalent-output-from-tf-nn-conv2d-and-keras-layers-conv2d\r\n",
        "tf.keras.backend.set_floatx('float32')\r\n",
        "\r\n",
        "# Model 5 conv 3fc\r\n",
        "\r\n",
        "#Input layer\r\n",
        "input_x = tf.keras.layers.Conv2D(filters=3, kernel_size=[5,5], input_shape=input_shape,activation='relu',  padding=\"same\")\r\n",
        "input_max = tf.keras.layers.MaxPooling2D(5,2)\r\n",
        "\r\n",
        "# 1st convolution layer\r\n",
        "h_conv1 = tf.keras.layers.Conv2D(filters=24, kernel_size=[5,5], input_shape= input_shape,activation='relu',  padding=\"same\")\r\n",
        "h_max1 = tf.keras.layers.MaxPooling2D(5,2)\r\n",
        "\r\n",
        "# 2nd convolution layer\r\n",
        "h_conv2 = tf.keras.layers.Conv2D(filters=36, kernel_size=[5,5], activation='relu', padding=\"same\") \r\n",
        "h_max2 = tf.keras.layers.MaxPooling2D(5,2)\r\n",
        "\r\n",
        "# 3rd convolution layer\r\n",
        "h_conv3 = tf.keras.layers.Conv2D(filters=48, kernel_size=[5,5], activation='relu', padding=\"same\") \r\n",
        "h_max3 = tf.keras.layers.MaxPooling2D(3,1)\r\n",
        "\r\n",
        "# 4th convolution layer\r\n",
        "h_conv4 = tf.keras.layers.Conv2D(filters=64, kernel_size=[3,3], activation='relu', padding=\"same\") \r\n",
        "h_max4 = tf.keras.layers.MaxPooling2D(3,1)\r\n",
        "\r\n",
        "# 5th convolution layer\r\n",
        "h_conv5 = tf.keras.layers.Conv2D(filters=64, kernel_size=[3,3], activation='relu', padding=\"same\") \r\n",
        "h_conv5_flat = tf.keras.layers.Flatten() #1152\r\n",
        "\r\n",
        "#Fully connected layers\r\n",
        "h_fc2 = tf.keras.layers.Dense(100, activation='relu')\r\n",
        "h_fc3 = tf.keras.layers.Dense(50, activation='relu')\r\n",
        "h_fc4 = tf.keras.layers.Dense(10, activation='relu')\r\n",
        "\r\n",
        "h_y = tf.keras.layers.Dense(1, activation='tanh')\r\n",
        "                "
      ],
      "execution_count": 19,
      "outputs": []
    },
    {
      "cell_type": "code",
      "metadata": {
        "id": "3zpzrG7iTink"
      },
      "source": [
        "# https://stackoverflow.com/questions/42785026/tf-nn-conv2d-vs-tf-layers-conv2d\r\n",
        "model = tf.keras.models.Sequential([\r\n",
        "            input_x,\r\n",
        "            input_max,\r\n",
        "            h_conv1,\r\n",
        "            h_max1 ,\r\n",
        "            h_conv2,\r\n",
        "            h_max2,\r\n",
        "            h_conv3,\r\n",
        "            h_max3,\r\n",
        "            h_conv4,\r\n",
        "            h_max4,\r\n",
        "            h_conv5,\r\n",
        "            h_conv5_flat,\r\n",
        "            h_fc2,\r\n",
        "            h_fc3,\r\n",
        "            h_fc4,\r\n",
        "            h_y,\r\n",
        "])"
      ],
      "execution_count": 20,
      "outputs": []
    },
    {
      "cell_type": "code",
      "metadata": {
        "colab": {
          "base_uri": "https://localhost:8080/"
        },
        "id": "YpNVYmargqK4",
        "outputId": "7548737f-fe20-468d-cd73-a4961cfbf3e5"
      },
      "source": [
        "print(model.summary())\r\n"
      ],
      "execution_count": 21,
      "outputs": [
        {
          "output_type": "stream",
          "text": [
            "Model: \"sequential\"\n",
            "_________________________________________________________________\n",
            "Layer (type)                 Output Shape              Param #   \n",
            "=================================================================\n",
            "conv2d (Conv2D)              (None, 66, 200, 3)        228       \n",
            "_________________________________________________________________\n",
            "max_pooling2d (MaxPooling2D) (None, 31, 98, 3)         0         \n",
            "_________________________________________________________________\n",
            "conv2d_1 (Conv2D)            (None, 31, 98, 24)        1824      \n",
            "_________________________________________________________________\n",
            "max_pooling2d_1 (MaxPooling2 (None, 14, 47, 24)        0         \n",
            "_________________________________________________________________\n",
            "conv2d_2 (Conv2D)            (None, 14, 47, 36)        21636     \n",
            "_________________________________________________________________\n",
            "max_pooling2d_2 (MaxPooling2 (None, 5, 22, 36)         0         \n",
            "_________________________________________________________________\n",
            "conv2d_3 (Conv2D)            (None, 5, 22, 48)         43248     \n",
            "_________________________________________________________________\n",
            "max_pooling2d_3 (MaxPooling2 (None, 3, 20, 48)         0         \n",
            "_________________________________________________________________\n",
            "conv2d_4 (Conv2D)            (None, 3, 20, 64)         27712     \n",
            "_________________________________________________________________\n",
            "max_pooling2d_4 (MaxPooling2 (None, 1, 18, 64)         0         \n",
            "_________________________________________________________________\n",
            "conv2d_5 (Conv2D)            (None, 1, 18, 64)         36928     \n",
            "_________________________________________________________________\n",
            "flatten (Flatten)            (None, 1152)              0         \n",
            "_________________________________________________________________\n",
            "dense (Dense)                (None, 100)               115300    \n",
            "_________________________________________________________________\n",
            "dense_1 (Dense)              (None, 50)                5050      \n",
            "_________________________________________________________________\n",
            "dense_2 (Dense)              (None, 10)                510       \n",
            "_________________________________________________________________\n",
            "dense_3 (Dense)              (None, 1)                 11        \n",
            "=================================================================\n",
            "Total params: 252,447\n",
            "Trainable params: 252,447\n",
            "Non-trainable params: 0\n",
            "_________________________________________________________________\n",
            "None\n"
          ],
          "name": "stdout"
        }
      ]
    },
    {
      "cell_type": "code",
      "metadata": {
        "id": "bIGj8NXuYnQt"
      },
      "source": [
        "from tensorflow.keras.losses import MeanSquaredError\r\n",
        "from tensorflow.keras.optimizers import Adam\r\n",
        "loss = MeanSquaredError()\r\n",
        "opt = Adam(learning_rate= 1e-4)\r\n",
        "model.compile(loss=loss, optimizer=opt, metrics=['acc'])"
      ],
      "execution_count": 22,
      "outputs": []
    },
    {
      "cell_type": "code",
      "metadata": {
        "colab": {
          "base_uri": "https://localhost:8080/"
        },
        "id": "8eADredJCNS_",
        "outputId": "e76b745f-44a2-462a-cf9d-2c249f211b0b"
      },
      "source": [
        "epoch_num = 10\r\n",
        "model.fit(X_train, y_train, epochs=epoch_num, validation_data=(X_test, y_test), batch_size=128)"
      ],
      "execution_count": 23,
      "outputs": [
        {
          "output_type": "stream",
          "text": [
            "Epoch 1/10\n",
            "26/26 [==============================] - 106s 4s/step - loss: 0.1410 - acc: 0.4064 - val_loss: 0.1182 - val_acc: 0.4055\n",
            "Epoch 2/10\n",
            "26/26 [==============================] - 105s 4s/step - loss: 0.1122 - acc: 0.3908 - val_loss: 0.0917 - val_acc: 0.4052\n",
            "Epoch 3/10\n",
            "26/26 [==============================] - 106s 4s/step - loss: 0.0885 - acc: 0.4055 - val_loss: 0.0796 - val_acc: 0.3968\n",
            "Epoch 4/10\n",
            "26/26 [==============================] - 105s 4s/step - loss: 0.0765 - acc: 0.4039 - val_loss: 0.0752 - val_acc: 0.3984\n",
            "Epoch 5/10\n",
            "26/26 [==============================] - 107s 4s/step - loss: 0.0766 - acc: 0.4001 - val_loss: 0.0733 - val_acc: 0.3991\n",
            "Epoch 6/10\n",
            "26/26 [==============================] - 106s 4s/step - loss: 0.0722 - acc: 0.4008 - val_loss: 0.0700 - val_acc: 0.3999\n",
            "Epoch 7/10\n",
            "26/26 [==============================] - 106s 4s/step - loss: 0.0694 - acc: 0.3925 - val_loss: 0.0694 - val_acc: 0.4029\n",
            "Epoch 8/10\n",
            "26/26 [==============================] - 106s 4s/step - loss: 0.0661 - acc: 0.3925 - val_loss: 0.0702 - val_acc: 0.4021\n",
            "Epoch 9/10\n",
            "26/26 [==============================] - 106s 4s/step - loss: 0.0695 - acc: 0.4041 - val_loss: 0.0673 - val_acc: 0.4021\n",
            "Epoch 10/10\n",
            "26/26 [==============================] - 106s 4s/step - loss: 0.0650 - acc: 0.3945 - val_loss: 0.0663 - val_acc: 0.4019\n"
          ],
          "name": "stdout"
        },
        {
          "output_type": "execute_result",
          "data": {
            "text/plain": [
              "<tensorflow.python.keras.callbacks.History at 0x7fc5e22a1208>"
            ]
          },
          "metadata": {
            "tags": []
          },
          "execution_count": 23
        }
      ]
    }
  ]
}