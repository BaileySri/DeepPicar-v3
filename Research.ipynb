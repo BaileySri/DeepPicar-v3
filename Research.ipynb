{
  "nbformat": 4,
  "nbformat_minor": 0,
  "metadata": {
    "colab": {
      "name": "Research.ipynb",
      "provenance": [],
      "collapsed_sections": []
    },
    "kernelspec": {
      "name": "python3",
      "display_name": "Python 3"
    }
  },
  "cells": [
    {
      "cell_type": "code",
      "metadata": {
        "id": "ioLbtB3uGKPX"
      },
      "source": [
        "try:\n",
        "  # %tensorflow_version only exists in Colab.\n",
        "  %tensorflow_version 2.x\n",
        "except Exception:\n",
        "  pass"
      ],
      "execution_count": null,
      "outputs": []
    },
    {
      "cell_type": "code",
      "metadata": {
        "id": "-CZHI0L8tawO"
      },
      "source": [
        "import tensorflow as tf\r\n",
        "# model = __import__(\"model\")\r\n",
        "from cv2 import cv2\r\n",
        "import sys\r\n",
        "import os\r\n",
        "import time\r\n",
        "import math\r\n",
        "import numpy as np\r\n",
        "from math import sin , cos\r\n",
        "from tqdm import tqdm"
      ],
      "execution_count": null,
      "outputs": []
    },
    {
      "cell_type": "code",
      "metadata": {
        "id": "WNPaIp6MBkHX",
        "colab": {
          "base_uri": "https://localhost:8080/"
        },
        "outputId": "8b46144b-cefb-470d-d83f-01bc0b55f5bf"
      },
      "source": [
        "from google.colab import drive\r\n",
        "ROOT = '/content/drive'\r\n",
        "drive.mount(ROOT)"
      ],
      "execution_count": null,
      "outputs": [
        {
          "output_type": "stream",
          "text": [
            "Drive already mounted at /content/drive; to attempt to forcibly remount, call drive.mount(\"/content/drive\", force_remount=True).\n"
          ],
          "name": "stdout"
        }
      ]
    },
    {
      "cell_type": "code",
      "metadata": {
        "colab": {
          "base_uri": "https://localhost:8080/"
        },
        "id": "9mGdMl8FXn_o",
        "outputId": "dedaa33d-b399-4901-bdf7-c3a49badb1bf"
      },
      "source": [
        "cd /content/drive/My\\ Drive/Research/"
      ],
      "execution_count": null,
      "outputs": [
        {
          "output_type": "stream",
          "text": [
            "/content/drive/My Drive/Research\n"
          ],
          "name": "stdout"
        }
      ]
    },
    {
      "cell_type": "markdown",
      "metadata": {
        "id": "gLj-6Xu5SPiV"
      },
      "source": [
        "# Preprocess dataset video to frames"
      ]
    },
    {
      "cell_type": "code",
      "metadata": {
        "id": "fgmpYbhtQ3Jm"
      },
      "source": [
        "# The max number of frames to be processed, \r\n",
        "# and the number of frames already processed\r\n",
        "NFRAMES = 1000\r\n",
        "vid_dir = \"./Dataset/\"\r\n",
        "# TODO: Do not hard code the number of dataset files and filename\r\n",
        "for i in tqdm(range(1,12)):\r\n",
        "  \r\n",
        "  # Open the video file\r\n",
        "  vid_path = f\"out-video-{i}\"\r\n",
        "  vid_ext = \".avi\"\r\n",
        "  path = vid_dir + vid_path + vid_ext\r\n",
        "  assert os.path.isfile(path)\r\n",
        "  cap = cv2.VideoCapture(path)\r\n",
        "\r\n",
        "  curFrame = 0\r\n",
        "\r\n",
        "  while (cap.isOpened()):\r\n",
        "    if curFrame < NFRAMES:\r\n",
        "      cam_start = time.time()\r\n",
        "      ret, img = cap.read()\r\n",
        "\r\n",
        "      if cv2.waitKey(1) & 0xFF == ord('q'):\r\n",
        "        break\r\n",
        "\r\n",
        "      #Preprocess the input frame\r\n",
        "      img = cv2.resize(img, (200, 66))\r\n",
        "      img = img / 255.\r\n",
        "\r\n",
        "      curFrame += 1\r\n",
        "\r\n",
        "      filename = f\"train_images/{vid_path}_frame_{curFrame}.jpg\" \r\n",
        "      frame = img\r\n",
        "      # print(vid_dir + filename)\r\n",
        "      cv2.imwrite(vid_dir + filename, frame)\r\n",
        "\r\n",
        "    else:\r\n",
        "      break\r\n",
        "\r\n",
        "cap.release()\r\n",
        "cv2.destroyAllWindows()\t\r\n",
        "\r\n"
      ],
      "execution_count": null,
      "outputs": []
    },
    {
      "cell_type": "markdown",
      "metadata": {
        "id": "inOpSdIY6AVZ"
      },
      "source": [
        "# Define model"
      ]
    },
    {
      "cell_type": "code",
      "metadata": {
        "id": "M4DEgFIRt02b"
      },
      "source": [
        "# To make sure there is no inqeuivalent output from tf.nn.conv2d and keras.layers.Conv2D\r\n",
        "# ref:https://stackoverflow.com/questions/61087933/inequivalent-output-from-tf-nn-conv2d-and-keras-layers-conv2d\r\n",
        "tf.keras.backend.set_floatx('float32')\r\n",
        "\r\n",
        "# Model 5 conv 3fc\r\n",
        "img_height = 66\r\n",
        "img_width =  200\r\n",
        "img_channels = 3\r\n",
        "input_shape = [ img_height, img_width, img_channels]\r\n",
        "\r\n",
        "#Input layer\r\n",
        "input_x = tf.keras.layers.Conv2D(filters=3, kernel_size=[5,5], input_shape=input_shape,activation='relu',  padding=\"same\")\r\n",
        "input_max = tf.keras.layers.MaxPooling2D(5,2)\r\n",
        "\r\n",
        "# 1st convolution layer\r\n",
        "h_conv1 = tf.keras.layers.Conv2D(\r\n",
        "                  filters=24,\r\n",
        "                  kernel_size=[5,5],\r\n",
        "                  input_shape= input_shape,\r\n",
        "                  activation='relu',  padding=\"same\")\r\n",
        "h_max1 = tf.keras.layers.MaxPooling2D(5,2)\r\n",
        "\r\n",
        "# 2nd convolution layer\r\n",
        "h_conv2 = tf.keras.layers.Conv2D(\r\n",
        "                  filters=36,\r\n",
        "                  kernel_size=[5,5],\r\n",
        "                  activation='relu', padding=\"same\") \r\n",
        "h_max2 = tf.keras.layers.MaxPooling2D(5,2)\r\n",
        "\r\n",
        "# 3rd convolution layer\r\n",
        "h_conv3 = tf.keras.layers.Conv2D(\r\n",
        "                  filters=48,\r\n",
        "                  kernel_size=[5,5],\r\n",
        "                  activation='relu', padding=\"same\") \r\n",
        "h_max3 = tf.keras.layers.MaxPooling2D(3,1)\r\n",
        "\r\n",
        "# 4th convolution layer\r\n",
        "h_conv4 = tf.keras.layers.Conv2D(\r\n",
        "                  filters=64,\r\n",
        "                  kernel_size=[3,3],\r\n",
        "                  activation='relu', padding=\"same\") \r\n",
        "h_max4 = tf.keras.layers.MaxPooling2D(3,1)\r\n",
        "\r\n",
        "# 5th convolution layer\r\n",
        "h_conv5 = tf.keras.layers.Conv2D(\r\n",
        "                  filters=64,\r\n",
        "                  kernel_size=[3,3],\r\n",
        "                  activation='relu', padding=\"same\") \r\n",
        "\r\n",
        "h_conv5_flat = tf.keras.layers.Flatten() #1152\r\n",
        "h_fc2 = tf.keras.layers.Dense(100, activation='relu')\r\n",
        "h_fc3 = tf.keras.layers.Dense(50, activation='relu')\r\n",
        "h_fc4 = tf.keras.layers.Dense(10, activation='relu')\r\n",
        "# missing atan and multiply\r\n",
        "y = tf.keras.layers.Dense(1, activation='softmax')\r\n",
        "                "
      ],
      "execution_count": null,
      "outputs": []
    },
    {
      "cell_type": "code",
      "metadata": {
        "colab": {
          "base_uri": "https://localhost:8080/"
        },
        "id": "3zpzrG7iTink",
        "outputId": "4ec17513-a817-4e11-91c7-d3abf10030c1"
      },
      "source": [
        "# https://stackoverflow.com/questions/42785026/tf-nn-conv2d-vs-tf-layers-conv2d\r\n",
        "model = tf.keras.models.Sequential([\r\n",
        "            input_x,\r\n",
        "            input_max,\r\n",
        "            h_conv1,\r\n",
        "            h_max1 ,\r\n",
        "            h_conv2,\r\n",
        "            h_max2,\r\n",
        "            h_conv3,\r\n",
        "            h_max3,\r\n",
        "            h_conv4,\r\n",
        "            h_max4,\r\n",
        "            h_conv5,\r\n",
        "            h_conv5_flat,\r\n",
        "            h_fc2,\r\n",
        "            h_fc3,\r\n",
        "            h_fc4,\r\n",
        "            y,\r\n",
        "])\r\n",
        "print(model.summary())"
      ],
      "execution_count": null,
      "outputs": [
        {
          "output_type": "stream",
          "text": [
            "Model: \"sequential_81\"\n",
            "_________________________________________________________________\n",
            "Layer (type)                 Output Shape              Param #   \n",
            "=================================================================\n",
            "conv2d_92 (Conv2D)           (None, 66, 200, 3)        228       \n",
            "_________________________________________________________________\n",
            "max_pooling2d_77 (MaxPooling (None, 31, 98, 3)         0         \n",
            "_________________________________________________________________\n",
            "conv2d_93 (Conv2D)           (None, 31, 98, 24)        1824      \n",
            "_________________________________________________________________\n",
            "max_pooling2d_78 (MaxPooling (None, 14, 47, 24)        0         \n",
            "_________________________________________________________________\n",
            "conv2d_94 (Conv2D)           (None, 14, 47, 36)        21636     \n",
            "_________________________________________________________________\n",
            "max_pooling2d_79 (MaxPooling (None, 5, 22, 36)         0         \n",
            "_________________________________________________________________\n",
            "conv2d_95 (Conv2D)           (None, 5, 22, 48)         43248     \n",
            "_________________________________________________________________\n",
            "max_pooling2d_80 (MaxPooling (None, 3, 20, 48)         0         \n",
            "_________________________________________________________________\n",
            "conv2d_96 (Conv2D)           (None, 3, 20, 64)         27712     \n",
            "_________________________________________________________________\n",
            "max_pooling2d_81 (MaxPooling (None, 1, 18, 64)         0         \n",
            "_________________________________________________________________\n",
            "conv2d_97 (Conv2D)           (None, 1, 18, 64)         36928     \n",
            "_________________________________________________________________\n",
            "flatten_17 (Flatten)         (None, 1152)              0         \n",
            "_________________________________________________________________\n",
            "dense_68 (Dense)             (None, 100)               115300    \n",
            "_________________________________________________________________\n",
            "dense_69 (Dense)             (None, 50)                5050      \n",
            "_________________________________________________________________\n",
            "dense_70 (Dense)             (None, 10)                510       \n",
            "_________________________________________________________________\n",
            "dense_71 (Dense)             (None, 1)                 11        \n",
            "=================================================================\n",
            "Total params: 252,447\n",
            "Trainable params: 252,447\n",
            "Non-trainable params: 0\n",
            "_________________________________________________________________\n",
            "None\n"
          ],
          "name": "stdout"
        }
      ]
    }
  ]
}