{
 "cells": [
  {
   "cell_type": "code",
   "execution_count": 14,
   "metadata": {
    "executionInfo": {
     "elapsed": 1127,
     "status": "ok",
     "timestamp": 1611485003804,
     "user": {
      "displayName": "Karen winona Setiawan",
      "photoUrl": "",
      "userId": "06837370551495071525"
     },
     "user_tz": -420
    },
    "id": "ioLbtB3uGKPX"
   },
   "outputs": [],
   "source": [
    "try:\n",
    "  # %tensorflow_version only exists in Colab.\n",
    "  %tensorflow_version 2.x\n",
    "except Exception:\n",
    "  pass"
   ]
  },
  {
   "cell_type": "code",
   "execution_count": 15,
   "metadata": {
    "executionInfo": {
     "elapsed": 2153,
     "status": "ok",
     "timestamp": 1611485004838,
     "user": {
      "displayName": "Karen winona Setiawan",
      "photoUrl": "",
      "userId": "06837370551495071525"
     },
     "user_tz": -420
    },
    "id": "-CZHI0L8tawO"
   },
   "outputs": [],
   "source": [
    "import tensorflow as tf\n",
    "# model = __import__(\"model\")\n",
    "from cv2 import cv2\n",
    "import sys\n",
    "import os\n",
    "import time\n",
    "import math\n",
    "import numpy as np\n",
    "from math import sin , cos\n",
    "from tqdm import tqdm"
   ]
  },
  {
   "cell_type": "code",
   "execution_count": 16,
   "metadata": {
    "colab": {
     "base_uri": "https://localhost:8080/"
    },
    "executionInfo": {
     "elapsed": 2140,
     "status": "ok",
     "timestamp": 1611485004839,
     "user": {
      "displayName": "Karen winona Setiawan",
      "photoUrl": "",
      "userId": "06837370551495071525"
     },
     "user_tz": -420
    },
    "id": "WNPaIp6MBkHX",
    "outputId": "4b780a0a-8ef7-4ce7-d2d6-04c7f089ec26"
   },
   "outputs": [
    {
     "name": "stdout",
     "output_type": "stream",
     "text": [
      "Drive already mounted at /content/drive; to attempt to forcibly remount, call drive.mount(\"/content/drive\", force_remount=True).\n"
     ]
    }
   ],
   "source": [
    "from google.colab import drive\n",
    "ROOT = '/content/drive'\n",
    "drive.mount(ROOT)"
   ]
  },
  {
   "cell_type": "code",
   "execution_count": 17,
   "metadata": {
    "colab": {
     "base_uri": "https://localhost:8080/"
    },
    "executionInfo": {
     "elapsed": 2131,
     "status": "ok",
     "timestamp": 1611485004840,
     "user": {
      "displayName": "Karen winona Setiawan",
      "photoUrl": "",
      "userId": "06837370551495071525"
     },
     "user_tz": -420
    },
    "id": "9mGdMl8FXn_o",
    "outputId": "22b497a5-aabe-4c1a-f8ed-59c800f1e406"
   },
   "outputs": [
    {
     "name": "stdout",
     "output_type": "stream",
     "text": [
      "/content/drive/My Drive/Deeppicar-v3\n"
     ]
    }
   ],
   "source": [
    "cd /content/drive/My\\ Drive/Deeppicar-v3"
   ]
  },
  {
   "cell_type": "markdown",
   "metadata": {
    "id": "gLj-6Xu5SPiV"
   },
   "source": [
    "# Preprocess dataset video to frames"
   ]
  },
  {
   "cell_type": "code",
   "execution_count": 18,
   "metadata": {
    "executionInfo": {
     "elapsed": 2128,
     "status": "ok",
     "timestamp": 1611485004841,
     "user": {
      "displayName": "Karen winona Setiawan",
      "photoUrl": "",
      "userId": "06837370551495071525"
     },
     "user_tz": -420
    },
    "id": "fgmpYbhtQ3Jm"
   },
   "outputs": [],
   "source": [
    "# # The max number of frames to be processed, \n",
    "# # and the number of frames already processed\n",
    "# NFRAMES = 1000\n",
    "# vid_dir = \"./Dataset/\"\n",
    "# # TODO: Do not hard code the number of dataset files and filename\n",
    "# for i in tqdm(range(1,12)):\n",
    "  \n",
    "#   # Open the video file\n",
    "#   vid_path = f\"out-video-{i}\"\n",
    "#   vid_ext = \".avi\"\n",
    "#   path = vid_dir + vid_path + vid_ext\n",
    "#   assert os.path.isfile(path)\n",
    "#   cap = cv2.VideoCapture(path)\n",
    "\n",
    "#   curFrame = 0\n",
    "\n",
    "#   while (cap.isOpened()):\n",
    "#     if curFrame < NFRAMES:\n",
    "#       cam_start = time.time()\n",
    "#       ret, img = cap.read()\n",
    "\n",
    "#       if cv2.waitKey(1) & 0xFF == ord('q'):\n",
    "#         break\n",
    "\n",
    "#       #Preprocess the input frame\n",
    "#       img = cv2.resize(img, (200, 66))\n",
    "#       img = img / 255.\n",
    "\n",
    "#       curFrame += 1\n",
    "\n",
    "#       filename = f\"train_images/{vid_path}_frame_{curFrame}.jpg\" \n",
    "#       frame = img\n",
    "#       # print(vid_dir + filename)\n",
    "#       cv2.imwrite(vid_dir + filename, frame)\n",
    "\n",
    "#     else:\n",
    "#       break\n",
    "\n",
    "# cap.release()\n",
    "# cv2.destroyAllWindows()\t\n",
    "\n"
   ]
  },
  {
   "cell_type": "markdown",
   "metadata": {
    "id": "inOpSdIY6AVZ"
   },
   "source": [
    "# Define model \n",
    "\n",
    "The overall model look like this<br>\n",
    "<img src='https://drive.google.com/uc?export=view&id=159LLRIVHWWhTvDsOs6r1h2K8L2FQ4rMj'\n",
    "width='300px' height='300x'>\n",
    "\n",
    "And from tensorflow-v1:\n",
    "<img src='https://drive.google.com/uc?export=view&id=158YHI0Z7uDTBbZH5m8wTkLKLs7BRv9QT' > \n",
    "\n",
    "\n",
    "\n"
   ]
  },
  {
   "cell_type": "markdown",
   "metadata": {
    "id": "ZIFd4r8kFQCi"
   },
   "source": [
    "## Layers"
   ]
  },
  {
   "cell_type": "code",
   "execution_count": 20,
   "metadata": {
    "executionInfo": {
     "elapsed": 2117,
     "status": "ok",
     "timestamp": 1611485004843,
     "user": {
      "displayName": "Karen winona Setiawan",
      "photoUrl": "",
      "userId": "06837370551495071525"
     },
     "user_tz": -420
    },
    "id": "M4DEgFIRt02b"
   },
   "outputs": [],
   "source": [
    "# To make sure there is no inqeuivalent output from tf.nn.conv2d and keras.layers.Conv2D\n",
    "# ref:https://stackoverflow.com/questions/61087933/inequivalent-output-from-tf-nn-conv2d-and-keras-layers-conv2d\n",
    "tf.keras.backend.set_floatx('float32')\n",
    "\n",
    "# Model 5 conv 3fc\n",
    "img_height = 66\n",
    "img_width =  200\n",
    "img_channels = 3\n",
    "input_shape = [ img_height, img_width, img_channels]\n",
    "\n",
    "#Input layer\n",
    "input_x = tf.keras.layers.Conv2D(filters=3, kernel_size=[5,5], input_shape=input_shape,activation='relu',  padding=\"same\")\n",
    "input_max = tf.keras.layers.MaxPooling2D(5,2)\n",
    "\n",
    "# 1st convolution layer\n",
    "h_conv1 = tf.keras.layers.Conv2D(\n",
    "                  filters=24,\n",
    "                  kernel_size=[5,5],\n",
    "                  input_shape= input_shape,\n",
    "                  activation='relu',  padding=\"same\")\n",
    "h_max1 = tf.keras.layers.MaxPooling2D(5,2)\n",
    "\n",
    "# 2nd convolution layer\n",
    "h_conv2 = tf.keras.layers.Conv2D(\n",
    "                  filters=36,\n",
    "                  kernel_size=[5,5],\n",
    "                  activation='relu', padding=\"same\") \n",
    "h_max2 = tf.keras.layers.MaxPooling2D(5,2)\n",
    "\n",
    "# 3rd convolution layer\n",
    "h_conv3 = tf.keras.layers.Conv2D(\n",
    "                  filters=48,\n",
    "                  kernel_size=[5,5],\n",
    "                  activation='relu', padding=\"same\") \n",
    "h_max3 = tf.keras.layers.MaxPooling2D(3,1)\n",
    "\n",
    "# 4th convolution layer\n",
    "h_conv4 = tf.keras.layers.Conv2D(\n",
    "                  filters=64,\n",
    "                  kernel_size=[3,3],\n",
    "                  activation='relu', padding=\"same\") \n",
    "h_max4 = tf.keras.layers.MaxPooling2D(3,1)\n",
    "\n",
    "# 5th convolution layer\n",
    "h_conv5 = tf.keras.layers.Conv2D(\n",
    "                  filters=64,\n",
    "                  kernel_size=[3,3],\n",
    "                  activation='relu', padding=\"same\") \n",
    "\n",
    "h_conv5_flat = tf.keras.layers.Flatten() #1152\n",
    "h_fc2 = tf.keras.layers.Dense(100, activation='relu')\n",
    "h_fc3 = tf.keras.layers.Dense(50, activation='relu')\n",
    "h_fc4 = tf.keras.layers.Dense(10, activation='relu')\n",
    "# missing atan and multiply\n",
    "y = tf.keras.layers.Dense(1, activation='softmax')\n",
    "                "
   ]
  },
  {
   "cell_type": "code",
   "execution_count": 21,
   "metadata": {
    "colab": {
     "base_uri": "https://localhost:8080/"
    },
    "executionInfo": {
     "elapsed": 2109,
     "status": "ok",
     "timestamp": 1611485004844,
     "user": {
      "displayName": "Karen winona Setiawan",
      "photoUrl": "",
      "userId": "06837370551495071525"
     },
     "user_tz": -420
    },
    "id": "3zpzrG7iTink",
    "outputId": "3cd15bf2-8b82-454c-ff46-09d266cdc6fb"
   },
   "outputs": [
    {
     "name": "stdout",
     "output_type": "stream",
     "text": [
      "Model: \"sequential_1\"\n",
      "_________________________________________________________________\n",
      "Layer (type)                 Output Shape              Param #   \n",
      "=================================================================\n",
      "conv2d_6 (Conv2D)            (None, 66, 200, 3)        228       \n",
      "_________________________________________________________________\n",
      "max_pooling2d_5 (MaxPooling2 (None, 31, 98, 3)         0         \n",
      "_________________________________________________________________\n",
      "conv2d_7 (Conv2D)            (None, 31, 98, 24)        1824      \n",
      "_________________________________________________________________\n",
      "max_pooling2d_6 (MaxPooling2 (None, 14, 47, 24)        0         \n",
      "_________________________________________________________________\n",
      "conv2d_8 (Conv2D)            (None, 14, 47, 36)        21636     \n",
      "_________________________________________________________________\n",
      "max_pooling2d_7 (MaxPooling2 (None, 5, 22, 36)         0         \n",
      "_________________________________________________________________\n",
      "conv2d_9 (Conv2D)            (None, 5, 22, 48)         43248     \n",
      "_________________________________________________________________\n",
      "max_pooling2d_8 (MaxPooling2 (None, 3, 20, 48)         0         \n",
      "_________________________________________________________________\n",
      "conv2d_10 (Conv2D)           (None, 3, 20, 64)         27712     \n",
      "_________________________________________________________________\n",
      "max_pooling2d_9 (MaxPooling2 (None, 1, 18, 64)         0         \n",
      "_________________________________________________________________\n",
      "conv2d_11 (Conv2D)           (None, 1, 18, 64)         36928     \n",
      "_________________________________________________________________\n",
      "flatten_1 (Flatten)          (None, 1152)              0         \n",
      "_________________________________________________________________\n",
      "dense_4 (Dense)              (None, 100)               115300    \n",
      "_________________________________________________________________\n",
      "dense_5 (Dense)              (None, 50)                5050      \n",
      "_________________________________________________________________\n",
      "dense_6 (Dense)              (None, 10)                510       \n",
      "_________________________________________________________________\n",
      "dense_7 (Dense)              (None, 1)                 11        \n",
      "=================================================================\n",
      "Total params: 252,447\n",
      "Trainable params: 252,447\n",
      "Non-trainable params: 0\n",
      "_________________________________________________________________\n",
      "None\n"
     ]
    }
   ],
   "source": [
    "# https://stackoverflow.com/questions/42785026/tf-nn-conv2d-vs-tf-layers-conv2d\n",
    "model = tf.keras.models.Sequential([\n",
    "            input_x,\n",
    "            input_max,\n",
    "            h_conv1,\n",
    "            h_max1 ,\n",
    "            h_conv2,\n",
    "            h_max2,\n",
    "            h_conv3,\n",
    "            h_max3,\n",
    "            h_conv4,\n",
    "            h_max4,\n",
    "            h_conv5,\n",
    "            h_conv5_flat,\n",
    "            h_fc2,\n",
    "            h_fc3,\n",
    "            h_fc4,\n",
    "            y,\n",
    "])\n",
    "print(model.summary())"
   ]
  },
  {
   "cell_type": "code",
   "execution_count": 50,
   "metadata": {
    "colab": {
     "base_uri": "https://localhost:8080/"
    },
    "executionInfo": {
     "elapsed": 847,
     "status": "ok",
     "timestamp": 1611486984014,
     "user": {
      "displayName": "Karen winona Setiawan",
      "photoUrl": "",
      "userId": "06837370551495071525"
     },
     "user_tz": -420
    },
    "id": "ZkMXEGsgFXMS",
    "outputId": "ec9fe614-b941-46ea-abe0-6a164175e9fd"
   },
   "outputs": [
    {
     "name": "stdout",
     "output_type": "stream",
     "text": [
      "error: src refspec master does not match any.\n",
      "error: failed to push some refs to 'https://github.com/Karenw1004/Deeppicar-v3.git'\n"
     ]
    }
   ],
   "source": []
  }
 ],
 "metadata": {
  "colab": {
   "collapsed_sections": [],
   "name": "Research.ipynb",
   "provenance": []
  },
  "kernelspec": {
   "display_name": "Python 3",
   "language": "python",
   "name": "python3"
  },
  "language_info": {
   "codemirror_mode": {
    "name": "ipython",
    "version": 3
   },
   "file_extension": ".py",
   "mimetype": "text/x-python",
   "name": "python",
   "nbconvert_exporter": "python",
   "pygments_lexer": "ipython3",
   "version": "3.7.4"
  }
 },
 "nbformat": 4,
 "nbformat_minor": 1
}
